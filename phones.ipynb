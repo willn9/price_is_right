{
 "cells": [
  {
   "cell_type": "markdown",
   "id": "de860421-9a4f-404b-98b2-c21067b0d260",
   "metadata": {},
   "source": [
    "# Phone Prices"
   ]
  },
  {
   "cell_type": "markdown",
   "id": "3a6aca0a-8d86-42be-ad64-bd697d06b769",
   "metadata": {},
   "source": [
    "## Simple  Linear Regression"
   ]
  },
  {
   "cell_type": "markdown",
   "id": "333d3e1e-8c0a-4eb5-a168-d454f5b8e0a2",
   "metadata": {},
   "source": [
    "### Importing Libraries "
   ]
  },
  {
   "cell_type": "code",
   "execution_count": null,
   "id": "052a10f3-4b8c-4aad-83ad-79d9099b4acf",
   "metadata": {},
   "outputs": [],
   "source": [
    "import numpy as np\n",
    "import pandas as pd\n",
    "import random\n",
    "\n",
    "import matplotlib.pyplot as plt\n",
    "from IPython.display import display, clear_output\n",
    "\n",
    "import time"
   ]
  },
  {
   "cell_type": "markdown",
   "id": "58833f34-0241-48a2-95de-567a26ef5245",
   "metadata": {},
   "source": [
    "### Phone Prices Data"
   ]
  },
  {
   "cell_type": "code",
   "execution_count": null,
   "id": "4538d1b8-011c-4398-a2c0-f0ede03691a9",
   "metadata": {},
   "outputs": [],
   "source": [
    "# Memory options in GB\n",
    "m_values = [4, 8, 16, 32, 64, 128, 256, 512, 1024]\n",
    "\n",
    "# Generate data for 100 phones with price noise\n",
    "phones = []\n",
    "for i in range(1, 101):\n",
    "    memory = random.choice(m_values)\n",
    "    base_price = 100 + 3 * memory\n",
    "    noise = random.uniform(-0.07, 0.07) * base_price\n",
    "    final_price = round(base_price + noise, 2)  # Round to 2 decimal places\n",
    "    phones.append({'Phone_ID': i, 'Memory_GB': memory, 'Price_$': final_price})\n",
    "\n",
    "# Convert to DataFrame\n",
    "df = pd.DataFrame(phones)\n",
    "\n",
    "# Display first few rows\n",
    "df.head()"
   ]
  },
  {
   "cell_type": "markdown",
   "id": "670e793e-b845-47fd-941e-d584c795874c",
   "metadata": {},
   "source": [
    "### Plotting the Best Fit Line"
   ]
  },
  {
   "cell_type": "code",
   "execution_count": null,
   "id": "4e1fc017-a1b5-4ecc-893d-994683d8a305",
   "metadata": {},
   "outputs": [],
   "source": [
    "# Scatter plot of actual data\n",
    "plt.figure(figsize=(10, 6))\n",
    "plt.scatter(df['Memory_GB'], df['Price_$'], color='teal', alpha=0.6, label='Actual Prices')\n",
    "\n",
    "# Dashed best fit line\n",
    "memory_range = np.linspace(df['Memory_GB'].min(), df['Memory_GB'].max(), 100)\n",
    "best_fit_prices = 100 + 3 * memory_range\n",
    "plt.plot(memory_range, best_fit_prices, color='red', linestyle='--', linewidth=2, label='Best Fit: $100 + $3×Memory')\n",
    "\n",
    "# Labels and Title\n",
    "plt.xlabel('Memory (GB)')\n",
    "plt.ylabel('Price ($)')\n",
    "plt.title('Phone Price vs. Memory with Best Fit Regression Line')\n",
    "plt.legend()\n",
    "plt.grid(True)\n",
    "\n",
    "# Show the plot\n",
    "plt.show()"
   ]
  },
  {
   "cell_type": "markdown",
   "id": "18313812-2698-43f0-b67e-d278942f30bb",
   "metadata": {},
   "source": [
    "## The Price is Right Game Trial - Demo Mode!"
   ]
  },
  {
   "cell_type": "code",
   "execution_count": null,
   "id": "3e15f36f-8dce-4f8b-b9ec-31869d14caad",
   "metadata": {},
   "outputs": [],
   "source": [
    "def generate_phone_price(memory_gb):\n",
    "    base_price = 100 + 3 * memory_gb\n",
    "    # noise = random.uniform(-0.07, 0.07) * base_price  # ±7% noise\n",
    "    noise = 0\n",
    "    return round(base_price + noise, 2)\n",
    "\n",
    "def play_demo():\n",
    "    memory_options = [4, 8, 16, 32, 64, 128, 256, 512, 1024]\n",
    "    \n",
    "    print(\"🎮 Welcome to The Price Is Right – Phone Edition!\")\n",
    "    print(\"Type 'stop' or 'quit' anytime to exit.\\n\")\n",
    "\n",
    "    while True:\n",
    "        memory = random.choice(memory_options)\n",
    "        print(f\"📱 The phone has {memory} GB of memory.\")\n",
    "        \n",
    "        guess_input = input(\"💰 What's your guess for the price? $\")\n",
    "        if guess_input.lower() in ['stop', 'quit']:\n",
    "            print(\"\\n👋 Thanks for playing! See you next time.\")\n",
    "            break\n",
    "\n",
    "        try:\n",
    "            guess = float(guess_input)\n",
    "        except ValueError:\n",
    "            print(\"⚠️ Please enter a valid number or type 'stop' to quit.\\n\")\n",
    "            continue\n",
    "\n",
    "        actual_price = generate_phone_price(memory)\n",
    "        print(f\"\\n🎉 The actual price is: ${actual_price}\")\n",
    "\n",
    "        difference = abs(actual_price - guess)\n",
    "        print(f\"🧮 You were off by: ${round(difference, 2)}\")\n",
    "\n",
    "        if difference < 20:\n",
    "            print(\"👏 Great guess!\\n\")\n",
    "        elif difference < 50:\n",
    "            print(\"👍 Not bad!\\n\")\n",
    "        else:\n",
    "            print(\"😬 Better luck next time!\\n\")\n",
    "\n",
    "# Start the game\n",
    "play_demo()"
   ]
  },
  {
   "cell_type": "markdown",
   "id": "9a3f2d18-12ef-4a26-acd3-7c86b76815b7",
   "metadata": {},
   "source": [
    "## The Price is Right Game with Score!"
   ]
  },
  {
   "cell_type": "code",
   "execution_count": null,
   "id": "23e37e50-eda7-4740-99eb-486a58f37f1e",
   "metadata": {},
   "outputs": [],
   "source": [
    "## def generate_phone_price(memory_gb):\n",
    "\n",
    "def play_game():\n",
    "    memory_options = [4, 8, 16, 32, 64, 128, 256, 512, 1024]\n",
    "    score = 0\n",
    "    rounds = 0\n",
    "    start_time = time.time()\n",
    "    time_limit = 180  # 3 minutes\n",
    "\n",
    "    # DataFrame to track results\n",
    "    results = []\n",
    "\n",
    "    print(\"🎮 Welcome to The Price Is Right – Phone Edition!\")\n",
    "    print(\"You have 3 minutes to guess as many prices as you can.\")\n",
    "    print(\"Type 'stop' or 'quit' anytime to exit.\\n\")\n",
    "\n",
    "    while True:\n",
    "        if time.time() - start_time > time_limit:\n",
    "            print(\"\\n⏰ Time's up!\")\n",
    "            break\n",
    "\n",
    "        memory = random.choice(memory_options)\n",
    "        predicted_price = generate_phone_price(memory)\n",
    "        print(f\"📱 The phone has {memory} GB of memory.\")\n",
    "\n",
    "        guess_input = input(\"💰 What's your guess for the price? $\")\n",
    "        if guess_input.lower() in ['stop', 'quit']:\n",
    "            print(\"\\n👋 Game stopped by player.\")\n",
    "            break\n",
    "\n",
    "        try:\n",
    "            user_estimate = float(guess_input)\n",
    "        except ValueError:\n",
    "            print(\"⚠️ Invalid input. Please enter a number.\\n\")\n",
    "            continue\n",
    "\n",
    "        rounds += 1\n",
    "        percent_error = abs(predicted_price - user_estimate) / predicted_price * 100\n",
    "        accuracy = round(100 - percent_error, 2)\n",
    "\n",
    "        # Scoring based on percentage error\n",
    "        if percent_error <= 5:\n",
    "            round_score = 10\n",
    "            feedback = \"🎯 Spot on!\"\n",
    "        elif percent_error <= 10:\n",
    "            round_score = 5\n",
    "            feedback = \"👍 Close!\"\n",
    "        elif percent_error <= 20:\n",
    "            round_score = 2\n",
    "            feedback = \"🙂 Not bad!\"\n",
    "        else:\n",
    "            round_score = 0\n",
    "            feedback = \"😬 Way off!\"\n",
    "\n",
    "        score += round_score\n",
    "\n",
    "        print(f\"{feedback} +{round_score} points\")\n",
    "        print(f\"🧮 Actual price: ${predicted_price}\")\n",
    "        print(f\"📉 Your error: {round(percent_error, 2)}%\")\n",
    "        print(f\"📊 Total score: {score} | Rounds played: {rounds}\\n\")\n",
    "\n",
    "        # Record round data\n",
    "        results.append({\n",
    "            'Memory_GB': memory,\n",
    "            'User_Estimate_$': round(user_estimate, 2),\n",
    "            'Predicted_Price_$': predicted_price,\n",
    "            'Accuracy_%': accuracy,\n",
    "            'Round_Score': round_score,\n",
    "            'Total_Score': score\n",
    "        })\n",
    "\n",
    "    # Create DataFrame\n",
    "    results_df = pd.DataFrame(results)\n",
    "    print(\"🏁 Game Over!\\n\")\n",
    "    return results_df\n",
    "\n",
    "# Start the game\n",
    "results_df = play_game()"
   ]
  },
  {
   "cell_type": "markdown",
   "id": "8d049353-c0ba-4105-a9bc-37cb8d2e293d",
   "metadata": {},
   "source": [
    "### Results and Score"
   ]
  },
  {
   "cell_type": "code",
   "execution_count": null,
   "id": "5bf7ac64-ea9c-41cb-bbf1-a19ebac92242",
   "metadata": {},
   "outputs": [],
   "source": [
    "print(\"📋 Final Score Summary:\")\n",
    "results_df"
   ]
  },
  {
   "cell_type": "markdown",
   "id": "97e85b01-960e-4933-b57f-ec61f6e174e2",
   "metadata": {},
   "source": [
    "### Plotting your Estimates Against Model Predictions"
   ]
  },
  {
   "cell_type": "code",
   "execution_count": null,
   "id": "d4eec063-9929-44f8-a050-5c7848428690",
   "metadata": {},
   "outputs": [],
   "source": [
    "plt.figure(figsize=(10, 6))\n",
    "plt.plot(results_df['Predicted_Price_$'], label='Actual Price', marker='o')\n",
    "plt.plot(results_df['User_Estimate_$'], label='Player Guess', marker='x')\n",
    "plt.title('Player Guess vs Actual Price')\n",
    "plt.xlabel('Round')\n",
    "plt.ylabel('Price ($)')\n",
    "plt.legend()\n",
    "plt.grid(True)\n",
    "plt.tight_layout()\n",
    "plt.show()"
   ]
  },
  {
   "cell_type": "code",
   "execution_count": null,
   "id": "ba52e7fd-9885-49ea-a732-ac3b311b285c",
   "metadata": {},
   "outputs": [],
   "source": [
    "plt.figure(figsize=(10, 6))\n",
    "plt.plot(results_df['Accuracy_%'], label='Accuracy', marker='o')\n",
    "\n",
    "plt.title('Player Accuracy')\n",
    "plt.xlabel('Round')\n",
    "plt.ylabel('Accuracy %')\n",
    "plt.legend()\n",
    "plt.grid(True)\n",
    "plt.tight_layout()\n",
    "plt.show()"
   ]
  },
  {
   "cell_type": "markdown",
   "id": "1223058b-de9e-4880-a3d5-a10582cdf982",
   "metadata": {},
   "source": [
    "### Congratulations on Completing your First AI Lab !"
   ]
  },
  {
   "cell_type": "markdown",
   "id": "fc2c8b33-2f79-40d3-8af6-3a1c822a398d",
   "metadata": {},
   "source": [
    "# Well Done!"
   ]
  },
  {
   "cell_type": "code",
   "execution_count": null,
   "id": "80dcae8c-fa6a-426f-9f55-fea13cb299b7",
   "metadata": {},
   "outputs": [],
   "source": []
  }
 ],
 "metadata": {
  "kernelspec": {
   "display_name": "Python 3 (ipykernel)",
   "language": "python",
   "name": "python3"
  },
  "language_info": {
   "codemirror_mode": {
    "name": "ipython",
    "version": 3
   },
   "file_extension": ".py",
   "mimetype": "text/x-python",
   "name": "python",
   "nbconvert_exporter": "python",
   "pygments_lexer": "ipython3",
   "version": "3.12.7"
  }
 },
 "nbformat": 4,
 "nbformat_minor": 5
}
