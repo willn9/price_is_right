{
 "cells": [
  {
   "cell_type": "markdown",
   "id": "2fa948b6-f8b8-492a-8a5a-a658f8c3bd82",
   "metadata": {},
   "source": [
    "### Hello World\n",
    "In Python, we use # to mark comments.  \n",
    "When you type your code, do not use # unless you want to type a comment.  \n",
    "Now, type below:  \n",
    "print('Hello World')  \n",
    "Note that Python is case sensitive and commands are usually in lower case!\n"
   ]
  },
  {
   "cell_type": "code",
   "execution_count": null,
   "id": "eb8c3deb-1afa-4705-be96-64c3524bbf12",
   "metadata": {},
   "outputs": [],
   "source": [
    "# type: print('Hello World!')\n"
   ]
  },
  {
   "cell_type": "markdown",
   "id": "d56269bb-96b7-4b68-a24f-8b67d98df2e0",
   "metadata": {},
   "source": [
    "### Text Strings"
   ]
  },
  {
   "cell_type": "code",
   "execution_count": null,
   "id": "05a0a0ab-adde-441e-9867-56efcfa647b0",
   "metadata": {},
   "outputs": [],
   "source": [
    "# type string = 'Pizza Prices'\n",
    "# type print(string)\n",
    "\n",
    "# shift Enter (run the cell)\n",
    "\n"
   ]
  },
  {
   "cell_type": "markdown",
   "id": "f7075104-b72d-4881-a743-4c7826e6d150",
   "metadata": {},
   "source": [
    "### Simple Math Operations"
   ]
  },
  {
   "cell_type": "code",
   "execution_count": null,
   "id": "42e90411-be51-4b27-9787-3b0469149e78",
   "metadata": {},
   "outputs": [],
   "source": [
    "# type: 5 + 3\n"
   ]
  },
  {
   "cell_type": "code",
   "execution_count": null,
   "id": "c51c7abc-f7c3-4626-8dbe-89d6b8e30622",
   "metadata": {},
   "outputs": [],
   "source": [
    "# type: 5 * 3\n"
   ]
  },
  {
   "cell_type": "markdown",
   "id": "63abc1c7-520a-439f-9c15-0bca81156e72",
   "metadata": {},
   "source": [
    "### Your Turn!\n",
    "Convert 3 meters to cms in similar way to what we did in the last cell"
   ]
  },
  {
   "cell_type": "code",
   "execution_count": null,
   "id": "6164e575-1675-47cb-b39e-176f5775032b",
   "metadata": {},
   "outputs": [],
   "source": [
    "# covert 3 meters to cms\n"
   ]
  },
  {
   "cell_type": "code",
   "execution_count": null,
   "id": "8dce20cd-788f-4e95-928a-378dd9200cca",
   "metadata": {},
   "outputs": [],
   "source": [
    "# type: \n",
    "# price = 2/3\n",
    "# slices = 6\n",
    "# total = prices * slices\n",
    "# total\n"
   ]
  },
  {
   "cell_type": "markdown",
   "id": "be4bc615-b1a8-49e5-a0dc-1146536c1aa8",
   "metadata": {},
   "source": [
    "## Let's Calculate the Price of any Number of Pizza Slices \n",
    "Run this cell and input number of slices.  \n",
    "Enter 'quit' or 'stop' to exit."
   ]
  },
  {
   "cell_type": "code",
   "execution_count": null,
   "id": "09938d1f-8159-4cdc-8030-81e64a5756ce",
   "metadata": {},
   "outputs": [],
   "source": [
    "price = 2 / 3\n",
    "\n",
    "while True:\n",
    "    slices = input('Enter Number of Slices (or type \"stop\" to quit): ')\n",
    "    \n",
    "    if slices.lower() in ['stop', 'quit']:\n",
    "        print('Thank you for playing.')\n",
    "        break\n",
    "    \n",
    "    try:\n",
    "        x = float(slices)\n",
    "        total = price * x\n",
    "        print(f'Total cost: ${total:.2f}')\n",
    "    except ValueError:\n",
    "        print(\"Please enter a valid number or type 'stop' to quit.\")"
   ]
  },
  {
   "cell_type": "code",
   "execution_count": null,
   "id": "80dcae8c-fa6a-426f-9f55-fea13cb299b7",
   "metadata": {},
   "outputs": [],
   "source": []
  },
  {
   "cell_type": "code",
   "execution_count": null,
   "id": "1dbc23ca-bb83-44be-87dd-0e98e0671825",
   "metadata": {},
   "outputs": [],
   "source": []
  },
  {
   "cell_type": "code",
   "execution_count": null,
   "id": "0f5c1070-8f92-43e0-adc9-1c3aa7a7e3ef",
   "metadata": {},
   "outputs": [],
   "source": []
  },
  {
   "cell_type": "code",
   "execution_count": null,
   "id": "8760802d-c303-4e5f-bdb1-aa7417e41e07",
   "metadata": {},
   "outputs": [],
   "source": []
  },
  {
   "cell_type": "code",
   "execution_count": null,
   "id": "2a4b4d7d-708a-4bbf-9be4-db6c5889b160",
   "metadata": {},
   "outputs": [],
   "source": []
  }
 ],
 "metadata": {
  "kernelspec": {
   "display_name": "Python 3 (ipykernel)",
   "language": "python",
   "name": "python3"
  },
  "language_info": {
   "codemirror_mode": {
    "name": "ipython",
    "version": 3
   },
   "file_extension": ".py",
   "mimetype": "text/x-python",
   "name": "python",
   "nbconvert_exporter": "python",
   "pygments_lexer": "ipython3",
   "version": "3.12.7"
  }
 },
 "nbformat": 4,
 "nbformat_minor": 5
}
