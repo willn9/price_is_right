{
 "cells": [
  {
   "cell_type": "markdown",
   "id": "de1453a0-fe2f-4179-a1a7-73d58c5ae145",
   "metadata": {},
   "source": [
    "### Junior Converter "
   ]
  },
  {
   "cell_type": "code",
   "execution_count": null,
   "id": "8e22578b-a059-4403-980b-aa6b0a4070df",
   "metadata": {},
   "outputs": [],
   "source": [
    "import numpy as np\n",
    "import matplotlib.pyplot as plt\n"
   ]
  },
  {
   "cell_type": "code",
   "execution_count": null,
   "id": "2c7739c8-bb7f-49fc-b5a7-837357b03680",
   "metadata": {},
   "outputs": [],
   "source": [
    "units = input(\"Select Weight Units to Convert from. Enter K for kg or L for pounds: \").lower()\n",
    "\n",
    "wk = 'Your weight in kgs: '\n",
    "wl = 'Your weight in lbs: '\n",
    "\n",
    "if units == 'k':\n",
    "    x1 = float(input(wk))\n",
    "    wlb = 2.225 * x1\n",
    "    print('Your weight in pounds is', round(wlb, 2), 'lbs')\n",
    "\n",
    "elif units == 'l':\n",
    "    x2 = float(input(wl))\n",
    "    wkg = x2 / 2.225\n",
    "    print('Your weight in kgs is', round(wkg, 2), 'kg')\n",
    "\n",
    "else:\n",
    "    print('Invalid entry. Please enter K or L.')"
   ]
  },
  {
   "cell_type": "markdown",
   "id": "2c27aa17-4e13-4ee2-b33e-451340443fbd",
   "metadata": {},
   "source": [
    "### A More Polished Version of the Converter\n",
    "* Handling Errors\n",
    "* Continuous play until user stops"
   ]
  },
  {
   "cell_type": "code",
   "execution_count": null,
   "id": "04662d0f-47b2-4d3d-a7c8-1bfe9edada34",
   "metadata": {},
   "outputs": [],
   "source": [
    "print(\"Welcome to the Junior Weight Converter!\")\n",
    "print(\"Type 'stop' or 'quit' at any time to exit.\\n\")\n",
    "\n",
    "while True:\n",
    "    units = input(\"Select Weight Units to Convert from. Enter K for kg or L for pounds: \").lower()\n",
    "\n",
    "    if units in ['stop', 'quit']:\n",
    "        print(\"Thanks for using the converter. Goodbye!\")\n",
    "        break\n",
    "\n",
    "    wk = 'Enter your weight in kilograms: '\n",
    "    wl = 'Enter your weight in pounds: '\n",
    "\n",
    "    if units == 'k':\n",
    "        x1_input = input(wk)\n",
    "        if x1_input.lower() in ['stop', 'quit']:\n",
    "            print(\"Thanks for using the converter. Goodbye!\")\n",
    "            break\n",
    "        try:\n",
    "            x1 = float(x1_input)\n",
    "            wlb = 2.225 * x1\n",
    "            print('Your weight in pounds is', round(wlb, 2), 'lbs\\n')\n",
    "        except ValueError:\n",
    "            print(\"Oops! Please enter a valid number for your weight.\\n\")\n",
    "\n",
    "    elif units == 'l':\n",
    "        x2_input = input(wl)\n",
    "        if x2_input.lower() in ['stop', 'quit']:\n",
    "            print(\"Thanks for using the converter. Goodbye!\")\n",
    "            break\n",
    "        try:\n",
    "            x2 = float(x2_input)\n",
    "            wkg = x2 / 2.225\n",
    "            print('Your weight in kilograms is', round(wkg, 2), 'kg\\n')\n",
    "        except ValueError:\n",
    "            print(\"Oops! Please enter a valid number for your weight.\\n\")\n",
    "\n",
    "    else:\n",
    "        print(\"Invalid entry. Please enter 'K' for kilograms or 'L' for pounds.\\n\")"
   ]
  },
  {
   "cell_type": "markdown",
   "id": "59fb4b1d-0d68-4bb1-aebf-54d43c58abf9",
   "metadata": {},
   "source": [
    "### Weight Conversion Plot"
   ]
  },
  {
   "cell_type": "code",
   "execution_count": null,
   "id": "cbdb1de5-fd5d-4a34-98f9-08fe6ceabf34",
   "metadata": {},
   "outputs": [],
   "source": [
    "# Data\n",
    "kg_list = range(40, 130)\n",
    "lb_list = [2.25 * k for k in kg_list]\n",
    "\n",
    "# Plot\n",
    "plt.figure(figsize=(10, 6))\n",
    "plt.plot(kg_list, lb_list, marker='o', linestyle='-', color='blue')\n",
    "\n",
    "# Labels and Title\n",
    "plt.xlabel('Weight (kg)')\n",
    "plt.ylabel('Weight (lb)')\n",
    "plt.title('Kilograms to Pounds Conversion')\n",
    "plt.grid(True)\n",
    "\n",
    "# Show the plot\n",
    "plt.show()"
   ]
  },
  {
   "cell_type": "code",
   "execution_count": null,
   "id": "91cef715-dfc7-4723-ab33-ffe42c45c52f",
   "metadata": {},
   "outputs": [],
   "source": []
  }
 ],
 "metadata": {
  "kernelspec": {
   "display_name": "Python 3 (ipykernel)",
   "language": "python",
   "name": "python3"
  },
  "language_info": {
   "codemirror_mode": {
    "name": "ipython",
    "version": 3
   },
   "file_extension": ".py",
   "mimetype": "text/x-python",
   "name": "python",
   "nbconvert_exporter": "python",
   "pygments_lexer": "ipython3",
   "version": "3.12.7"
  }
 },
 "nbformat": 4,
 "nbformat_minor": 5
}
