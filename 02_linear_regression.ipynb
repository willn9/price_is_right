{
 "cells": [
  {
   "cell_type": "markdown",
   "id": "2fa948b6-f8b8-492a-8a5a-a658f8c3bd82",
   "metadata": {},
   "source": [
    "### Hello World"
   ]
  },
  {
   "cell_type": "code",
   "execution_count": 1,
   "id": "eb8c3deb-1afa-4705-be96-64c3524bbf12",
   "metadata": {},
   "outputs": [],
   "source": [
    "# type: print('Hello World!')\n"
   ]
  },
  {
   "cell_type": "code",
   "execution_count": null,
   "id": "42e90411-be51-4b27-9787-3b0469149e78",
   "metadata": {},
   "outputs": [],
   "source": [
    "# type: 5 + 3\n"
   ]
  },
  {
   "cell_type": "code",
   "execution_count": 2,
   "id": "c51c7abc-f7c3-4626-8dbe-89d6b8e30622",
   "metadata": {},
   "outputs": [],
   "source": [
    "# type: 5 * 3\n"
   ]
  },
  {
   "cell_type": "code",
   "execution_count": 5,
   "id": "8dce20cd-788f-4e95-928a-378dd9200cca",
   "metadata": {},
   "outputs": [
    {
     "data": {
      "text/plain": [
       "15"
      ]
     },
     "execution_count": 5,
     "metadata": {},
     "output_type": "execute_result"
    }
   ],
   "source": [
    "# type: \n",
    "# x = 10\n",
    "# y = 7\n",
    "# find x * y\n"
   ]
  },
  {
   "cell_type": "code",
   "execution_count": 3,
   "id": "6164e575-1675-47cb-b39e-176f5775032b",
   "metadata": {},
   "outputs": [],
   "source": [
    "# covert 3 meters to cms\n"
   ]
  },
  {
   "cell_type": "markdown",
   "id": "de1453a0-fe2f-4179-a1a7-73d58c5ae145",
   "metadata": {},
   "source": [
    "### Junior Convertor "
   ]
  },
  {
   "cell_type": "code",
   "execution_count": 4,
   "id": "2c7739c8-bb7f-49fc-b5a7-837357b03680",
   "metadata": {},
   "outputs": [
    {
     "name": "stdin",
     "output_type": "stream",
     "text": [
      "Select Weight Units to Convert from. Enter K for kg or L for pounds:  k\n",
      "Your weight in kgs:  90\n"
     ]
    },
    {
     "name": "stdout",
     "output_type": "stream",
     "text": [
      "Your weight in pounds is 200.25 lbs\n"
     ]
    }
   ],
   "source": [
    "units = input(\"Select Weight Units to Convert from. Enter K for kg or L for pounds: \").lower()\n",
    "\n",
    "wk = 'Your weight in kgs: '\n",
    "wl = 'Your weight in lbs: '\n",
    "\n",
    "if units == 'k':\n",
    "    x1 = float(input(wk))\n",
    "    wlb = 2.225 * x1\n",
    "    print('Your weight in pounds is', round(wlb, 2), 'lbs')\n",
    "\n",
    "elif units == 'l':\n",
    "    x2 = float(input(wl))\n",
    "    wkg = x2 / 2.225\n",
    "    print('Your weight in kgs is', round(wkg, 2), 'kg')\n",
    "\n",
    "else:\n",
    "    print('Invalid entry. Please enter K or L.')"
   ]
  },
  {
   "cell_type": "code",
   "execution_count": null,
   "id": "04662d0f-47b2-4d3d-a7c8-1bfe9edada34",
   "metadata": {},
   "outputs": [],
   "source": [
    "print(\"Welcome to the Junior Weight Converter!\")\n",
    "print(\"Type 'stop' or 'quit' at any time to exit.\\n\")\n",
    "\n",
    "while True:\n",
    "    units = input(\"Select Weight Units to Convert from. Enter K for kg or L for pounds: \").lower()\n",
    "\n",
    "    if units in ['stop', 'quit']:\n",
    "        print(\"Thanks for using the converter. Goodbye!\")\n",
    "        break\n",
    "\n",
    "    wk = 'Enter your weight in kilograms: '\n",
    "    wl = 'Enter your weight in pounds: '\n",
    "\n",
    "    if units == 'k':\n",
    "        x1_input = input(wk)\n",
    "        if x1_input.lower() in ['stop', 'quit']:\n",
    "            print(\"Thanks for using the converter. Goodbye!\")\n",
    "            break\n",
    "        try:\n",
    "            x1 = float(x1_input)\n",
    "            wlb = 2.225 * x1\n",
    "            print('Your weight in pounds is', round(wlb, 2), 'lbs\\n')\n",
    "        except ValueError:\n",
    "            print(\"Oops! Please enter a valid number for your weight.\\n\")\n",
    "\n",
    "    elif units == 'l':\n",
    "        x2_input = input(wl)\n",
    "        if x2_input.lower() in ['stop', 'quit']:\n",
    "            print(\"Thanks for using the converter. Goodbye!\")\n",
    "            break\n",
    "        try:\n",
    "            x2 = float(x2_input)\n",
    "            wkg = x2 / 2.225\n",
    "            print('Your weight in kilograms is', round(wkg, 2), 'kg\\n')\n",
    "        except ValueError:\n",
    "            print(\"Oops! Please enter a valid number for your weight.\\n\")\n",
    "\n",
    "    else:\n",
    "        print(\"Invalid entry. Please enter 'K' for kilograms or 'L' for pounds.\\n\")"
   ]
  },
  {
   "cell_type": "markdown",
   "id": "de860421-9a4f-404b-98b2-c21067b0d260",
   "metadata": {},
   "source": [
    "## Simple  Linear Regression"
   ]
  },
  {
   "cell_type": "code",
   "execution_count": 1,
   "id": "052a10f3-4b8c-4aad-83ad-79d9099b4acf",
   "metadata": {},
   "outputs": [],
   "source": [
    "import numpy as np\n",
    "import pandas as pd\n",
    "\n",
    "import matplotlib.pyplot as plt\n",
    "from IPython.display import display, clear_output\n",
    "\n",
    "import time"
   ]
  },
  {
   "cell_type": "code",
   "execution_count": 2,
   "id": "9f3ed6a3-d941-4fca-b1aa-0a90c5eca602",
   "metadata": {},
   "outputs": [],
   "source": [
    "df = pd.read_csv(\"02_area_price_000.csv\")"
   ]
  },
  {
   "cell_type": "code",
   "execution_count": 3,
   "id": "8da7a014-6ee9-44d6-9400-e0dcfe235515",
   "metadata": {},
   "outputs": [
    {
     "data": {
      "text/html": [
       "<div>\n",
       "<style scoped>\n",
       "    .dataframe tbody tr th:only-of-type {\n",
       "        vertical-align: middle;\n",
       "    }\n",
       "\n",
       "    .dataframe tbody tr th {\n",
       "        vertical-align: top;\n",
       "    }\n",
       "\n",
       "    .dataframe thead th {\n",
       "        text-align: right;\n",
       "    }\n",
       "</style>\n",
       "<table border=\"1\" class=\"dataframe\">\n",
       "  <thead>\n",
       "    <tr style=\"text-align: right;\">\n",
       "      <th></th>\n",
       "      <th>area</th>\n",
       "      <th>price</th>\n",
       "    </tr>\n",
       "  </thead>\n",
       "  <tbody>\n",
       "    <tr>\n",
       "      <th>0</th>\n",
       "      <td>1166</td>\n",
       "      <td>589.232</td>\n",
       "    </tr>\n",
       "    <tr>\n",
       "      <th>1</th>\n",
       "      <td>1589</td>\n",
       "      <td>771.387</td>\n",
       "    </tr>\n",
       "    <tr>\n",
       "      <th>2</th>\n",
       "      <td>602</td>\n",
       "      <td>357.510</td>\n",
       "    </tr>\n",
       "    <tr>\n",
       "      <th>3</th>\n",
       "      <td>982</td>\n",
       "      <td>455.796</td>\n",
       "    </tr>\n",
       "    <tr>\n",
       "      <th>4</th>\n",
       "      <td>1697</td>\n",
       "      <td>810.714</td>\n",
       "    </tr>\n",
       "    <tr>\n",
       "      <th>5</th>\n",
       "      <td>681</td>\n",
       "      <td>328.530</td>\n",
       "    </tr>\n",
       "    <tr>\n",
       "      <th>6</th>\n",
       "      <td>1299</td>\n",
       "      <td>567.522</td>\n",
       "    </tr>\n",
       "    <tr>\n",
       "      <th>7</th>\n",
       "      <td>1228</td>\n",
       "      <td>563.276</td>\n",
       "    </tr>\n",
       "    <tr>\n",
       "      <th>8</th>\n",
       "      <td>845</td>\n",
       "      <td>493.683</td>\n",
       "    </tr>\n",
       "    <tr>\n",
       "      <th>9</th>\n",
       "      <td>712</td>\n",
       "      <td>342.061</td>\n",
       "    </tr>\n",
       "    <tr>\n",
       "      <th>10</th>\n",
       "      <td>1446</td>\n",
       "      <td>601.025</td>\n",
       "    </tr>\n",
       "    <tr>\n",
       "      <th>11</th>\n",
       "      <td>1567</td>\n",
       "      <td>703.049</td>\n",
       "    </tr>\n",
       "    <tr>\n",
       "      <th>12</th>\n",
       "      <td>992</td>\n",
       "      <td>463.020</td>\n",
       "    </tr>\n",
       "  </tbody>\n",
       "</table>\n",
       "</div>"
      ],
      "text/plain": [
       "    area    price\n",
       "0   1166  589.232\n",
       "1   1589  771.387\n",
       "2    602  357.510\n",
       "3    982  455.796\n",
       "4   1697  810.714\n",
       "5    681  328.530\n",
       "6   1299  567.522\n",
       "7   1228  563.276\n",
       "8    845  493.683\n",
       "9    712  342.061\n",
       "10  1446  601.025\n",
       "11  1567  703.049\n",
       "12   992  463.020"
      ]
     },
     "execution_count": 3,
     "metadata": {},
     "output_type": "execute_result"
    }
   ],
   "source": [
    "df # Note that the price is in $000, i.e., a value of 350 means that the house price is $350,000"
   ]
  },
  {
   "cell_type": "code",
   "execution_count": 4,
   "id": "53248df6-e872-42af-9e8a-93e5e0b563a7",
   "metadata": {},
   "outputs": [],
   "source": [
    "# Extract x (area) and y (price)\n",
    "x = df[\"area\"].values\n",
    "y = df[\"price\"].values"
   ]
  },
  {
   "cell_type": "code",
   "execution_count": 5,
   "id": "2124e405-9453-4b31-98b2-abd82d406c35",
   "metadata": {},
   "outputs": [
    {
     "data": {
      "text/plain": [
       "(numpy.int64, numpy.float64)"
      ]
     },
     "execution_count": 5,
     "metadata": {},
     "output_type": "execute_result"
    }
   ],
   "source": [
    "type(x[0]), type(y[0])"
   ]
  },
  {
   "cell_type": "code",
   "execution_count": null,
   "id": "bea577e3-dbc1-4134-aed2-23e20e65ce55",
   "metadata": {},
   "outputs": [],
   "source": []
  },
  {
   "cell_type": "code",
   "execution_count": 6,
   "id": "045821b2-d5e7-432d-a9ce-80e3e5128204",
   "metadata": {},
   "outputs": [
    {
     "data": {
      "text/plain": [
       "array([[1.000e+00, 1.166e+03],\n",
       "       [1.000e+00, 1.589e+03],\n",
       "       [1.000e+00, 6.020e+02],\n",
       "       [1.000e+00, 9.820e+02],\n",
       "       [1.000e+00, 1.697e+03],\n",
       "       [1.000e+00, 6.810e+02],\n",
       "       [1.000e+00, 1.299e+03],\n",
       "       [1.000e+00, 1.228e+03],\n",
       "       [1.000e+00, 8.450e+02],\n",
       "       [1.000e+00, 7.120e+02],\n",
       "       [1.000e+00, 1.446e+03],\n",
       "       [1.000e+00, 1.567e+03],\n",
       "       [1.000e+00, 9.920e+02]])"
      ]
     },
     "execution_count": 6,
     "metadata": {},
     "output_type": "execute_result"
    }
   ],
   "source": [
    "# Construct X matrix with a bias term (column of ones)\n",
    "X = np.column_stack((np.ones(len(x)), x))\n",
    "X"
   ]
  },
  {
   "cell_type": "code",
   "execution_count": 7,
   "id": "d34b999e-ff76-4ada-a860-67df6b6287e8",
   "metadata": {},
   "outputs": [],
   "source": [
    "# Apply normal equation: β = (Xᵀ·X)⁻¹·Xᵀ·y\n",
    "XT_X = X.T.dot(X)\n",
    "XT_y = X.T.dot(y)\n",
    "beta = np.linalg.inv(XT_X).dot(XT_y)"
   ]
  },
  {
   "cell_type": "code",
   "execution_count": 8,
   "id": "4538d1b8-011c-4398-a2c0-f0ede03691a9",
   "metadata": {},
   "outputs": [
    {
     "name": "stdout",
     "output_type": "stream",
     "text": [
      "B0 (Intercept): 77.07\n",
      "B1 (Slope): 0.41\n"
     ]
    }
   ],
   "source": [
    "# Results\n",
    "B0, B1 = beta\n",
    "print(f\"B0 (Intercept): {B0:.2f}\")\n",
    "print(f\"B1 (Slope): {B1:.2f}\")"
   ]
  },
  {
   "cell_type": "code",
   "execution_count": 9,
   "id": "0255a48d-d5b7-4a6a-8519-2521d5a08fd3",
   "metadata": {},
   "outputs": [
    {
     "data": {
      "image/png": "[encoded data removed]",
      "text/plain": [
       "<Figure size 640x480 with 1 Axes>"
      ]
     },
     "metadata": {},
     "output_type": "display_data"
    }
   ],
   "source": [
    "# Predict prices using the linear model\n",
    "y_pred = B0 + B1 * x\n",
    "\n",
    "# Plot actual vs. predicted\n",
    "plt.scatter(x, y, color='blue', label='Actual Data')\n",
    "plt.plot(x, y_pred, color='red', label='Linear Fit')\n",
    "plt.xlabel(\"Area (sq ft)\")\n",
    "plt.ylabel(\"Price\")\n",
    "plt.title(\"Linear Regression: House Area vs. Price\")\n",
    "plt.legend()\n",
    "plt.grid(True)\n",
    "plt.show()"
   ]
  },
  {
   "cell_type": "markdown",
   "id": "18313812-2698-43f0-b67e-d278942f30bb",
   "metadata": {},
   "source": [
    "## Price is Right Game!"
   ]
  },
  {
   "cell_type": "code",
   "execution_count": 10,
   "id": "6d9d38ca-ba05-4423-931c-c7d3be1ebbf0",
   "metadata": {},
   "outputs": [
    {
     "name": "stdout",
     "output_type": "stream",
     "text": [
      "🎮 Price is Right Regression Challenge\n",
      "You have 3 minutes to guess house prices based on area. Let's go!\n",
      "\n",
      "🏠 House Area: 1112 sq ft\n"
     ]
    },
    {
     "name": "stdin",
     "output_type": "stream",
     "text": [
      "💰 Your guess for the house price in $1000, i.e, if your guess $350,000 - you should enter 350 (or type 'stop' to quit):  550\n"
     ]
    },
    {
     "name": "stdout",
     "output_type": "stream",
     "text": [
      "📊 Predicted: $531070.05 | Your Guess: $550000.00 | Error: $18929.95 | ⏱️ Remaining Time: 170 seconds\n",
      "\n",
      "🏠 House Area: 1363 sq ft\n"
     ]
    },
    {
     "name": "stdin",
     "output_type": "stream",
     "text": [
      "💰 Your guess for the house price in $1000, i.e, if your guess $350,000 - you should enter 350 (or type 'stop' to quit):  610.53\n"
     ]
    },
    {
     "name": "stdout",
     "output_type": "stream",
     "text": [
      "📊 Predicted: $633545.67 | Your Guess: $610530.00 | Error: $-23015.67 | ⏱️ Remaining Time: 148 seconds\n",
      "\n",
      "🏠 House Area: 1313 sq ft\n"
     ]
    },
    {
     "name": "stdin",
     "output_type": "stream",
     "text": [
      "💰 Your guess for the house price in $1000, i.e, if your guess $350,000 - you should enter 350 (or type 'stop' to quit):  625\n"
     ]
    },
    {
     "name": "stdout",
     "output_type": "stream",
     "text": [
      "📊 Predicted: $613132.20 | Your Guess: $625000.00 | Error: $11867.80 | ⏱️ Remaining Time: 118 seconds\n",
      "\n",
      "🏠 House Area: 1823 sq ft\n"
     ]
    },
    {
     "name": "stdin",
     "output_type": "stream",
     "text": [
      "💰 Your guess for the house price in $1000, i.e, if your guess $350,000 - you should enter 350 (or type 'stop' to quit):  900\n"
     ]
    },
    {
     "name": "stdout",
     "output_type": "stream",
     "text": [
      "📊 Predicted: $821349.59 | Your Guess: $900000.00 | Error: $78650.41 | ⏱️ Remaining Time: 107 seconds\n",
      "\n",
      "🏠 House Area: 507 sq ft\n"
     ]
    },
    {
     "name": "stdin",
     "output_type": "stream",
     "text": [
      "💰 Your guess for the house price in $1000, i.e, if your guess $350,000 - you should enter 350 (or type 'stop' to quit):  260\n"
     ]
    },
    {
     "name": "stdout",
     "output_type": "stream",
     "text": [
      "📊 Predicted: $284067.07 | Your Guess: $260000.00 | Error: $-24067.07 | ⏱️ Remaining Time: 92 seconds\n",
      "\n",
      "🏠 House Area: 701 sq ft\n"
     ]
    },
    {
     "name": "stdin",
     "output_type": "stream",
     "text": [
      "💰 Your guess for the house price in $1000, i.e, if your guess $350,000 - you should enter 350 (or type 'stop' to quit):  340\n"
     ]
    },
    {
     "name": "stdout",
     "output_type": "stream",
     "text": [
      "📊 Predicted: $363271.33 | Your Guess: $340000.00 | Error: $-23271.33 | ⏱️ Remaining Time: 75 seconds\n",
      "\n",
      "🏠 House Area: 1594 sq ft\n"
     ]
    },
    {
     "name": "stdin",
     "output_type": "stream",
     "text": [
      "💰 Your guess for the house price in $1000, i.e, if your guess $350,000 - you should enter 350 (or type 'stop' to quit):  750\n"
     ]
    },
    {
     "name": "stdout",
     "output_type": "stream",
     "text": [
      "📊 Predicted: $727855.90 | Your Guess: $750000.00 | Error: $22144.10 | ⏱️ Remaining Time: 67 seconds\n",
      "\n",
      "🏠 House Area: 1013 sq ft\n"
     ]
    },
    {
     "name": "stdin",
     "output_type": "stream",
     "text": [
      "💰 Your guess for the house price in $1000, i.e, if your guess $350,000 - you should enter 350 (or type 'stop' to quit):  550\n"
     ]
    },
    {
     "name": "stdout",
     "output_type": "stream",
     "text": [
      "📊 Predicted: $490651.38 | Your Guess: $550000.00 | Error: $59348.62 | ⏱️ Remaining Time: 62 seconds\n",
      "\n",
      "🏠 House Area: 1951 sq ft\n"
     ]
    },
    {
     "name": "stdin",
     "output_type": "stream",
     "text": [
      "💰 Your guess for the house price in $1000, i.e, if your guess $350,000 - you should enter 350 (or type 'stop' to quit):  850\n"
     ]
    },
    {
     "name": "stdout",
     "output_type": "stream",
     "text": [
      "📊 Predicted: $873608.08 | Your Guess: $850000.00 | Error: $-23608.08 | ⏱️ Remaining Time: 57 seconds\n",
      "\n",
      "🏠 House Area: 502 sq ft\n"
     ]
    },
    {
     "name": "stdin",
     "output_type": "stream",
     "text": [
      "💰 Your guess for the house price in $1000, i.e, if your guess $350,000 - you should enter 350 (or type 'stop' to quit):  250\n"
     ]
    },
    {
     "name": "stdout",
     "output_type": "stream",
     "text": [
      "📊 Predicted: $282025.72 | Your Guess: $250000.00 | Error: $-32025.72 | ⏱️ Remaining Time: 54 seconds\n",
      "\n",
      "🏠 House Area: 1330 sq ft\n"
     ]
    },
    {
     "name": "stdin",
     "output_type": "stream",
     "text": [
      "💰 Your guess for the house price in $1000, i.e, if your guess $350,000 - you should enter 350 (or type 'stop' to quit):  665\n"
     ]
    },
    {
     "name": "stdout",
     "output_type": "stream",
     "text": [
      "📊 Predicted: $620072.78 | Your Guess: $665000.00 | Error: $44927.22 | ⏱️ Remaining Time: 49 seconds\n",
      "\n",
      "🏠 House Area: 2280 sq ft\n"
     ]
    },
    {
     "name": "stdin",
     "output_type": "stream",
     "text": [
      "💰 Your guess for the house price in $1000, i.e, if your guess $350,000 - you should enter 350 (or type 'stop' to quit):  1140\n"
     ]
    },
    {
     "name": "stdout",
     "output_type": "stream",
     "text": [
      "📊 Predicted: $1007928.71 | Your Guess: $1140000.00 | Error: $132071.29 | ⏱️ Remaining Time: 44 seconds\n",
      "\n",
      "🏠 House Area: 2067 sq ft\n"
     ]
    },
    {
     "name": "stdin",
     "output_type": "stream",
     "text": [
      "💰 Your guess for the house price in $1000, i.e, if your guess $350,000 - you should enter 350 (or type 'stop' to quit):  1030\n"
     ]
    },
    {
     "name": "stdout",
     "output_type": "stream",
     "text": [
      "📊 Predicted: $920967.33 | Your Guess: $1030000.00 | Error: $109032.67 | ⏱️ Remaining Time: 35 seconds\n",
      "\n",
      "🏠 House Area: 1719 sq ft\n"
     ]
    },
    {
     "name": "stdin",
     "output_type": "stream",
     "text": [
      "💰 Your guess for the house price in $1000, i.e, if your guess $350,000 - you should enter 350 (or type 'stop' to quit):  850\n"
     ]
    },
    {
     "name": "stdout",
     "output_type": "stream",
     "text": [
      "📊 Predicted: $778889.58 | Your Guess: $850000.00 | Error: $71110.42 | ⏱️ Remaining Time: 27 seconds\n",
      "\n",
      "🏠 House Area: 1478 sq ft\n"
     ]
    },
    {
     "name": "stdin",
     "output_type": "stream",
     "text": [
      "💰 Your guess for the house price in $1000, i.e, if your guess $350,000 - you should enter 350 (or type 'stop' to quit):  745\n"
     ]
    },
    {
     "name": "stdout",
     "output_type": "stream",
     "text": [
      "📊 Predicted: $680496.65 | Your Guess: $745000.00 | Error: $64503.35 | ⏱️ Remaining Time: 19 seconds\n",
      "\n",
      "🏠 House Area: 1259 sq ft\n"
     ]
    },
    {
     "name": "stdin",
     "output_type": "stream",
     "text": [
      "💰 Your guess for the house price in $1000, i.e, if your guess $350,000 - you should enter 350 (or type 'stop' to quit):  625\n"
     ]
    },
    {
     "name": "stdout",
     "output_type": "stream",
     "text": [
      "📊 Predicted: $591085.66 | Your Guess: $625000.00 | Error: $33914.34 | ⏱️ Remaining Time: 12 seconds\n",
      "\n",
      "🏠 House Area: 641 sq ft\n"
     ]
    },
    {
     "name": "stdin",
     "output_type": "stream",
     "text": [
      "💰 Your guess for the house price in $1000, i.e, if your guess $350,000 - you should enter 350 (or type 'stop' to quit):  320\n"
     ]
    },
    {
     "name": "stdout",
     "output_type": "stream",
     "text": [
      "📊 Predicted: $338775.17 | Your Guess: $320000.00 | Error: $-18775.17 | ⏱️ Remaining Time: 5 seconds\n",
      "\n",
      "🏠 House Area: 2082 sq ft\n"
     ]
    },
    {
     "name": "stdin",
     "output_type": "stream",
     "text": [
      "💰 Your guess for the house price in $1000, i.e, if your guess $350,000 - you should enter 350 (or type 'stop' to quit):  1040\n"
     ]
    },
    {
     "name": "stdout",
     "output_type": "stream",
     "text": [
      "📊 Predicted: $927091.37 | Your Guess: $1040000.00 | Error: $112908.63 | ⏱️ Remaining Time: 1 seconds\n",
      "\n",
      "🏠 House Area: 1664 sq ft\n"
     ]
    },
    {
     "name": "stdin",
     "output_type": "stream",
     "text": [
      "💰 Your guess for the house price in $1000, i.e, if your guess $350,000 - you should enter 350 (or type 'stop' to quit):  840\n"
     ]
    },
    {
     "name": "stdout",
     "output_type": "stream",
     "text": [
      "📊 Predicted: $756434.76 | Your Guess: $840000.00 | Error: $83565.24 | ⏱️ Remaining Time: -2 seconds\n",
      "\n",
      "⏰ Time's up! Here's how you did:\n"
     ]
    }
   ],
   "source": [
    "# Tracking data\n",
    "areas = []\n",
    "predicted_prices = []\n",
    "guesses = []\n",
    "errors = []\n",
    "squared_errors = []\n",
    "\n",
    "# Game duration\n",
    "t_minutes = 3 # set minutes\n",
    "duration = 60  * t_minutes\n",
    "start_time = time.time()\n",
    "\n",
    "# Valid exit phrases\n",
    "stop_commands = [\"exit\", \"stop\", \"quit\", \"^c\"]\n",
    "\n",
    "print(f\"🎮 Price is Right Regression Challenge\\nYou have {t_minutes} minutes to guess house prices based on area. Let's go!\")\n",
    "\n",
    "while time.time() - start_time < duration:\n",
    "    # Generate house area in range [400, 2500]\n",
    "    area = np.random.randint(400, 2500)\n",
    "    predicted_price = B0 + B1 * area\n",
    "    print(f\"\\n🏠 House Area: {area} sq ft\")\n",
    "\n",
    "    guess_input = input(\"💰 Your guess for the house price in $1000, i.e, if your guess $350,000 - you should enter 350 (or type 'stop' to quit): \")\n",
    "\n",
    "    if guess_input.lower() in stop_commands:\n",
    "        print(\"🛑 Game stopped by user.\")\n",
    "        break\n",
    "\n",
    "    try:\n",
    "        guess = float(guess_input)\n",
    "        error = guess - predicted_price\n",
    "        se = error**2\n",
    "\n",
    "        areas.append(area)\n",
    "        predicted_prices.append(predicted_price)\n",
    "        guesses.append(guess)\n",
    "        errors.append(error)\n",
    "        squared_errors.append(se)\n",
    "\n",
    "        remaining_time = int(duration - (time.time() - start_time))\n",
    "        print(f\"📊 Predicted: ${1000*predicted_price:.2f} | Your Guess: ${1000*guess:.2f} | Error: ${1000*error:.2f} | ⏱️ Remaining Time: {remaining_time} seconds\")\n",
    "\n",
    "    except ValueError:\n",
    "        print(\"❌ Invalid input. Please enter a number or a valid stop command.\")\n",
    "\n",
    "print(\"\\n⏰ Time's up! Execute the Next Cells to Know your Score \\n and See how you did:\")\n"
   ]
  },
  {
   "cell_type": "code",
   "execution_count": 20,
   "id": "b5f57c30-3ce9-424a-86a1-68dcee7a1b14",
   "metadata": {},
   "outputs": [
    {
     "data": {
      "text/html": [
       "<div>\n",
       "<style scoped>\n",
       "    .dataframe tbody tr th:only-of-type {\n",
       "        vertical-align: middle;\n",
       "    }\n",
       "\n",
       "    .dataframe tbody tr th {\n",
       "        vertical-align: top;\n",
       "    }\n",
       "\n",
       "    .dataframe thead th {\n",
       "        text-align: right;\n",
       "    }\n",
       "</style>\n",
       "<table border=\"1\" class=\"dataframe\">\n",
       "  <thead>\n",
       "    <tr style=\"text-align: right;\">\n",
       "      <th></th>\n",
       "      <th>Round</th>\n",
       "      <th>Area (sq ft)</th>\n",
       "      <th>Your Guess ($)</th>\n",
       "      <th>Model Prediction ($)</th>\n",
       "      <th>Error ($)</th>\n",
       "      <th>Squared Error</th>\n",
       "    </tr>\n",
       "  </thead>\n",
       "  <tbody>\n",
       "    <tr>\n",
       "      <th>0</th>\n",
       "      <td>1</td>\n",
       "      <td>1112</td>\n",
       "      <td>550.00</td>\n",
       "      <td>531.070055</td>\n",
       "      <td>18.929945</td>\n",
       "      <td>358.342825</td>\n",
       "    </tr>\n",
       "    <tr>\n",
       "      <th>1</th>\n",
       "      <td>2</td>\n",
       "      <td>1363</td>\n",
       "      <td>610.53</td>\n",
       "      <td>633.545672</td>\n",
       "      <td>-23.015672</td>\n",
       "      <td>529.721180</td>\n",
       "    </tr>\n",
       "    <tr>\n",
       "      <th>2</th>\n",
       "      <td>3</td>\n",
       "      <td>1313</td>\n",
       "      <td>625.00</td>\n",
       "      <td>613.132203</td>\n",
       "      <td>11.867797</td>\n",
       "      <td>140.844610</td>\n",
       "    </tr>\n",
       "    <tr>\n",
       "      <th>3</th>\n",
       "      <td>4</td>\n",
       "      <td>1823</td>\n",
       "      <td>900.00</td>\n",
       "      <td>821.349593</td>\n",
       "      <td>78.650407</td>\n",
       "      <td>6185.886472</td>\n",
       "    </tr>\n",
       "    <tr>\n",
       "      <th>4</th>\n",
       "      <td>5</td>\n",
       "      <td>507</td>\n",
       "      <td>260.00</td>\n",
       "      <td>284.067072</td>\n",
       "      <td>-24.067072</td>\n",
       "      <td>579.223953</td>\n",
       "    </tr>\n",
       "    <tr>\n",
       "      <th>5</th>\n",
       "      <td>6</td>\n",
       "      <td>701</td>\n",
       "      <td>340.00</td>\n",
       "      <td>363.271334</td>\n",
       "      <td>-23.271334</td>\n",
       "      <td>541.554997</td>\n",
       "    </tr>\n",
       "    <tr>\n",
       "      <th>6</th>\n",
       "      <td>7</td>\n",
       "      <td>1594</td>\n",
       "      <td>750.00</td>\n",
       "      <td>727.855902</td>\n",
       "      <td>22.144098</td>\n",
       "      <td>490.361063</td>\n",
       "    </tr>\n",
       "    <tr>\n",
       "      <th>7</th>\n",
       "      <td>8</td>\n",
       "      <td>1013</td>\n",
       "      <td>550.00</td>\n",
       "      <td>490.651385</td>\n",
       "      <td>59.348615</td>\n",
       "      <td>3522.258117</td>\n",
       "    </tr>\n",
       "    <tr>\n",
       "      <th>8</th>\n",
       "      <td>9</td>\n",
       "      <td>1951</td>\n",
       "      <td>850.00</td>\n",
       "      <td>873.608076</td>\n",
       "      <td>-23.608076</td>\n",
       "      <td>557.341235</td>\n",
       "    </tr>\n",
       "    <tr>\n",
       "      <th>9</th>\n",
       "      <td>10</td>\n",
       "      <td>502</td>\n",
       "      <td>250.00</td>\n",
       "      <td>282.025725</td>\n",
       "      <td>-32.025725</td>\n",
       "      <td>1025.647061</td>\n",
       "    </tr>\n",
       "    <tr>\n",
       "      <th>10</th>\n",
       "      <td>11</td>\n",
       "      <td>1330</td>\n",
       "      <td>665.00</td>\n",
       "      <td>620.072783</td>\n",
       "      <td>44.927217</td>\n",
       "      <td>2018.454872</td>\n",
       "    </tr>\n",
       "    <tr>\n",
       "      <th>11</th>\n",
       "      <td>12</td>\n",
       "      <td>2280</td>\n",
       "      <td>1140.00</td>\n",
       "      <td>1007.928706</td>\n",
       "      <td>132.071294</td>\n",
       "      <td>17442.826705</td>\n",
       "    </tr>\n",
       "    <tr>\n",
       "      <th>12</th>\n",
       "      <td>13</td>\n",
       "      <td>2067</td>\n",
       "      <td>1030.00</td>\n",
       "      <td>920.967325</td>\n",
       "      <td>109.032675</td>\n",
       "      <td>11888.124166</td>\n",
       "    </tr>\n",
       "    <tr>\n",
       "      <th>13</th>\n",
       "      <td>14</td>\n",
       "      <td>1719</td>\n",
       "      <td>850.00</td>\n",
       "      <td>778.889576</td>\n",
       "      <td>71.110424</td>\n",
       "      <td>5056.692340</td>\n",
       "    </tr>\n",
       "    <tr>\n",
       "      <th>14</th>\n",
       "      <td>15</td>\n",
       "      <td>1478</td>\n",
       "      <td>745.00</td>\n",
       "      <td>680.496653</td>\n",
       "      <td>64.503347</td>\n",
       "      <td>4160.681815</td>\n",
       "    </tr>\n",
       "    <tr>\n",
       "      <th>15</th>\n",
       "      <td>16</td>\n",
       "      <td>1259</td>\n",
       "      <td>625.00</td>\n",
       "      <td>591.085656</td>\n",
       "      <td>33.914344</td>\n",
       "      <td>1150.182757</td>\n",
       "    </tr>\n",
       "    <tr>\n",
       "      <th>16</th>\n",
       "      <td>17</td>\n",
       "      <td>641</td>\n",
       "      <td>320.00</td>\n",
       "      <td>338.775171</td>\n",
       "      <td>-18.775171</td>\n",
       "      <td>352.507032</td>\n",
       "    </tr>\n",
       "    <tr>\n",
       "      <th>17</th>\n",
       "      <td>18</td>\n",
       "      <td>2082</td>\n",
       "      <td>1040.00</td>\n",
       "      <td>927.091366</td>\n",
       "      <td>112.908634</td>\n",
       "      <td>12748.359601</td>\n",
       "    </tr>\n",
       "    <tr>\n",
       "      <th>18</th>\n",
       "      <td>19</td>\n",
       "      <td>1664</td>\n",
       "      <td>840.00</td>\n",
       "      <td>756.434760</td>\n",
       "      <td>83.565240</td>\n",
       "      <td>6983.149368</td>\n",
       "    </tr>\n",
       "  </tbody>\n",
       "</table>\n",
       "</div>"
      ],
      "text/plain": [
       "    Round  Area (sq ft)  Your Guess ($)  Model Prediction ($)   Error ($)  \\\n",
       "0       1          1112          550.00            531.070055   18.929945   \n",
       "1       2          1363          610.53            633.545672  -23.015672   \n",
       "2       3          1313          625.00            613.132203   11.867797   \n",
       "3       4          1823          900.00            821.349593   78.650407   \n",
       "4       5           507          260.00            284.067072  -24.067072   \n",
       "5       6           701          340.00            363.271334  -23.271334   \n",
       "6       7          1594          750.00            727.855902   22.144098   \n",
       "7       8          1013          550.00            490.651385   59.348615   \n",
       "8       9          1951          850.00            873.608076  -23.608076   \n",
       "9      10           502          250.00            282.025725  -32.025725   \n",
       "10     11          1330          665.00            620.072783   44.927217   \n",
       "11     12          2280         1140.00           1007.928706  132.071294   \n",
       "12     13          2067         1030.00            920.967325  109.032675   \n",
       "13     14          1719          850.00            778.889576   71.110424   \n",
       "14     15          1478          745.00            680.496653   64.503347   \n",
       "15     16          1259          625.00            591.085656   33.914344   \n",
       "16     17           641          320.00            338.775171  -18.775171   \n",
       "17     18          2082         1040.00            927.091366  112.908634   \n",
       "18     19          1664          840.00            756.434760   83.565240   \n",
       "\n",
       "    Squared Error  \n",
       "0      358.342825  \n",
       "1      529.721180  \n",
       "2      140.844610  \n",
       "3     6185.886472  \n",
       "4      579.223953  \n",
       "5      541.554997  \n",
       "6      490.361063  \n",
       "7     3522.258117  \n",
       "8      557.341235  \n",
       "9     1025.647061  \n",
       "10    2018.454872  \n",
       "11   17442.826705  \n",
       "12   11888.124166  \n",
       "13    5056.692340  \n",
       "14    4160.681815  \n",
       "15    1150.182757  \n",
       "16     352.507032  \n",
       "17   12748.359601  \n",
       "18    6983.149368  "
      ]
     },
     "metadata": {},
     "output_type": "display_data"
    },
    {
     "data": {
      "text/html": [
       "<div>\n",
       "<style scoped>\n",
       "    .dataframe tbody tr th:only-of-type {\n",
       "        vertical-align: middle;\n",
       "    }\n",
       "\n",
       "    .dataframe tbody tr th {\n",
       "        vertical-align: top;\n",
       "    }\n",
       "\n",
       "    .dataframe thead th {\n",
       "        text-align: right;\n",
       "    }\n",
       "</style>\n",
       "<table border=\"1\" class=\"dataframe\">\n",
       "  <thead>\n",
       "    <tr style=\"text-align: right;\">\n",
       "      <th></th>\n",
       "      <th>🧾 Summary of</th>\n",
       "      <th>Area (sq ft)</th>\n",
       "      <th>Your Guess ($)</th>\n",
       "      <th>Model Prediction ($)</th>\n",
       "      <th>Error ($)</th>\n",
       "      <th>Squared Error | Accuracy</th>\n",
       "      <th>Score</th>\n",
       "    </tr>\n",
       "  </thead>\n",
       "  <tbody>\n",
       "    <tr>\n",
       "      <th>0</th>\n",
       "      <td>19 rounds</td>\n",
       "      <td>Avg: 1389.42</td>\n",
       "      <td>Avg: 681.08</td>\n",
       "      <td>Avg: 644.33</td>\n",
       "      <td>Total SSR: 75732.16</td>\n",
       "      <td>MSE: 3985.90 | R²: 0.9145</td>\n",
       "      <td>🏆 Score: 2739.64</td>\n",
       "    </tr>\n",
       "  </tbody>\n",
       "</table>\n",
       "</div>"
      ],
      "text/plain": [
       "  🧾 Summary of  Area (sq ft) Your Guess ($) Model Prediction ($)  \\\n",
       "0    19 rounds  Avg: 1389.42    Avg: 681.08          Avg: 644.33   \n",
       "\n",
       "             Error ($)   Squared Error | Accuracy             Score  \n",
       "0  Total SSR: 75732.16  MSE: 3985.90 | R²: 0.9145  🏆 Score: 2739.64  "
      ]
     },
     "execution_count": 20,
     "metadata": {},
     "output_type": "execute_result"
    }
   ],
   "source": [
    "# Summary table\n",
    "results = pd.DataFrame({\n",
    "    \"Round\": range(1, len(guesses) + 1),\n",
    "    \"Area (sq ft)\": areas,\n",
    "    \"Your Guess ($)\": guesses,\n",
    "    \"Model Prediction ($)\": predicted_prices,\n",
    "    \"Error ($)\": errors,\n",
    "    \"Squared Error\": squared_errors\n",
    "})\n",
    "\n",
    "# Metrics\n",
    "SSR = sum(squared_errors)\n",
    "MSE = SSR / len(squared_errors) if squared_errors else 0\n",
    "mean_prediction = np.mean(predicted_prices)\n",
    "SST = sum((pred - mean_prediction)**2 for pred in predicted_prices)\n",
    "R2 = 1 - SSR / SST if SST != 0 else 0\n",
    "\n",
    "score = round(1000 * R2 * np.log1p(len(guesses)), 2)\n",
    "\n",
    "\n",
    "# Summary row\n",
    "summary = pd.DataFrame({\n",
    "    \"🧾 Summary of\": [f\"{len(areas)} rounds\"],\n",
    "    \"Area (sq ft)\": [f\"Avg: {np.mean(areas):.2f}\"],\n",
    "    \"Your Guess ($)\": [f\"Avg: {np.mean(guesses):.2f}\"],\n",
    "    \"Model Prediction ($)\": [f\"Avg: {mean_prediction:.2f}\"],\n",
    "    \"Error ($)\": [f\"Total SSR: {SSR:.2f}\"],\n",
    "    \"Squared Error | Accuracy\": [f\"MSE: {MSE:.2f} | R²: {R2:.4f}\"],\n",
    "    \"Score\": [f\"🏆 Score: {score}\"]\n",
    "})\n",
    "\n",
    "display(results)\n",
    "summary"
   ]
  },
  {
   "cell_type": "code",
   "execution_count": 17,
   "id": "9ba8da86-cc92-469c-939c-65801318be9b",
   "metadata": {},
   "outputs": [
    {
     "data": {
      "image/png": "[encoded data removed]",
      "text/plain": [
       "<Figure size 1000x600 with 1 Axes>"
      ]
     },
     "metadata": {},
     "output_type": "display_data"
    }
   ],
   "source": [
    "# Plot guesses vs. prediction\n",
    "plt.figure(figsize=(10,6))\n",
    "plt.plot(results[\"Round\"], results[\"Your Guess ($)\"], marker='o', label='Your Guesses', color='blue')\n",
    "plt.plot(results[\"Round\"], results[\"Model Prediction ($)\"], marker='x', linestyle='--', label='Model Prediction', color='red')\n",
    "plt.xlabel(\"Round\")\n",
    "plt.ylabel(\"Price in 1000($)\")\n",
    "plt.title(\"Price Guess vs. Predicted Price\")\n",
    "plt.legend()\n",
    "plt.grid(True)\n",
    "plt.show()"
   ]
  },
  {
   "cell_type": "code",
   "execution_count": null,
   "id": "d4eec063-9929-44f8-a050-5c7848428690",
   "metadata": {},
   "outputs": [],
   "source": []
  },
  {
   "cell_type": "code",
   "execution_count": null,
   "id": "80dcae8c-fa6a-426f-9f55-fea13cb299b7",
   "metadata": {},
   "outputs": [],
   "source": []
  },
  {
   "cell_type": "code",
   "execution_count": null,
   "id": "1dbc23ca-bb83-44be-87dd-0e98e0671825",
   "metadata": {},
   "outputs": [],
   "source": []
  },
  {
   "cell_type": "code",
   "execution_count": null,
   "id": "0f5c1070-8f92-43e0-adc9-1c3aa7a7e3ef",
   "metadata": {},
   "outputs": [],
   "source": []
  },
  {
   "cell_type": "code",
   "execution_count": null,
   "id": "8760802d-c303-4e5f-bdb1-aa7417e41e07",
   "metadata": {},
   "outputs": [],
   "source": []
  },
  {
   "cell_type": "code",
   "execution_count": null,
   "id": "2a4b4d7d-708a-4bbf-9be4-db6c5889b160",
   "metadata": {},
   "outputs": [],
   "source": []
  }
 ],
 "metadata": {
  "kernelspec": {
   "display_name": "Python 3 (ipykernel)",
   "language": "python",
   "name": "python3"
  },
  "language_info": {
   "codemirror_mode": {
    "name": "ipython",
    "version": 3
   },
   "file_extension": ".py",
   "mimetype": "text/x-python",
   "name": "python",
   "nbconvert_exporter": "python",
   "pygments_lexer": "ipython3",
   "version": "3.10.16"
  }
 },
 "nbformat": 4,
 "nbformat_minor": 5
}
