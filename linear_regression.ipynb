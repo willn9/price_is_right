{
 "cells": [
  {
   "cell_type": "markdown",
   "id": "42bf4c82-01cf-46ba-912d-605ae23be87f",
   "metadata": {},
   "source": [
    "# Online Version"
   ]
  },
  {
   "cell_type": "markdown",
   "id": "2fa948b6-f8b8-492a-8a5a-a658f8c3bd82",
   "metadata": {},
   "source": [
    "### Hello World "
   ]
  },
  {
   "cell_type": "code",
   "execution_count": null,
   "id": "eb8c3deb-1afa-4705-be96-64c3524bbf12",
   "metadata": {},
   "outputs": [],
   "source": [
    "# type: print('Hello World!')\n"
   ]
  },
  {
   "cell_type": "code",
   "execution_count": null,
   "id": "05a0a0ab-adde-441e-9867-56efcfa647b0",
   "metadata": {},
   "outputs": [],
   "source": [
    "# type str = 'Hello Again'\n",
    "# type print(str)\n",
    "# type str\n",
    "# shift Enter (run the cell)\n"
   ]
  },
  {
   "cell_type": "code",
   "execution_count": null,
   "id": "42e90411-be51-4b27-9787-3b0469149e78",
   "metadata": {},
   "outputs": [],
   "source": [
    "# type: 5 + 3\n"
   ]
  },
  {
   "cell_type": "code",
   "execution_count": null,
   "id": "c51c7abc-f7c3-4626-8dbe-89d6b8e30622",
   "metadata": {},
   "outputs": [],
   "source": [
    "# type: 5 * 3\n"
   ]
  },
  {
   "cell_type": "code",
   "execution_count": null,
   "id": "8dce20cd-788f-4e95-928a-378dd9200cca",
   "metadata": {},
   "outputs": [],
   "source": [
    "# type: \n",
    "# x = 10\n",
    "# y = 7\n",
    "# find x * y\n"
   ]
  },
  {
   "cell_type": "code",
   "execution_count": null,
   "id": "6164e575-1675-47cb-b39e-176f5775032b",
   "metadata": {},
   "outputs": [],
   "source": [
    "# covert 3 meters to cms\n"
   ]
  },
  {
   "cell_type": "markdown",
   "id": "de1453a0-fe2f-4179-a1a7-73d58c5ae145",
   "metadata": {},
   "source": [
    "### Junior Converter "
   ]
  },
  {
   "cell_type": "code",
   "execution_count": null,
   "id": "2c7739c8-bb7f-49fc-b5a7-837357b03680",
   "metadata": {},
   "outputs": [],
   "source": [
    "units = input(\"Select Weight Units to Convert from. Enter K for kg or L for pounds: \").lower()\n",
    "\n",
    "wk = 'Your weight in kgs: '\n",
    "wl = 'Your weight in lbs: '\n",
    "\n",
    "if units == 'k':\n",
    "    x1 = float(input(wk))\n",
    "    wlb = 2.225 * x1\n",
    "    print('Your weight in pounds is', round(wlb, 2), 'lbs')\n",
    "\n",
    "elif units == 'l':\n",
    "    x2 = float(input(wl))\n",
    "    wkg = x2 / 2.225\n",
    "    print('Your weight in kgs is', round(wkg, 2), 'kg')\n",
    "\n",
    "else:\n",
    "    print('Invalid entry. Please enter K or L.')"
   ]
  },
  {
   "cell_type": "markdown",
   "id": "2c27aa17-4e13-4ee2-b33e-451340443fbd",
   "metadata": {},
   "source": [
    "### A More Polished Version of the Converter\n",
    "* Handling Errors\n",
    "* Continuous play until user stops"
   ]
  },
  {
   "cell_type": "code",
   "execution_count": null,
   "id": "04662d0f-47b2-4d3d-a7c8-1bfe9edada34",
   "metadata": {},
   "outputs": [],
   "source": [
    "print(\"Welcome to the Junior Weight Converter!\")\n",
    "print(\"Type 'stop' or 'quit' at any time to exit.\\n\")\n",
    "\n",
    "while True:\n",
    "    units = input(\"Select Weight Units to Convert from. Enter K for kg or L for pounds: \").lower()\n",
    "\n",
    "    if units in ['stop', 'quit']:\n",
    "        print(\"Thanks for using the converter. Goodbye!\")\n",
    "        break\n",
    "\n",
    "    wk = 'Enter your weight in kilograms: '\n",
    "    wl = 'Enter your weight in pounds: '\n",
    "\n",
    "    if units == 'k':\n",
    "        x1_input = input(wk)\n",
    "        if x1_input.lower() in ['stop', 'quit']:\n",
    "            print(\"Thanks for using the converter. Goodbye!\")\n",
    "            break\n",
    "        try:\n",
    "            x1 = float(x1_input)\n",
    "            wlb = 2.225 * x1\n",
    "            print('Your weight in pounds is', round(wlb, 2), 'lbs\\n')\n",
    "        except ValueError:\n",
    "            print(\"Oops! Please enter a valid number for your weight.\\n\")\n",
    "\n",
    "    elif units == 'l':\n",
    "        x2_input = input(wl)\n",
    "        if x2_input.lower() in ['stop', 'quit']:\n",
    "            print(\"Thanks for using the converter. Goodbye!\")\n",
    "            break\n",
    "        try:\n",
    "            x2 = float(x2_input)\n",
    "            wkg = x2 / 2.225\n",
    "            print('Your weight in kilograms is', round(wkg, 2), 'kg\\n')\n",
    "        except ValueError:\n",
    "            print(\"Oops! Please enter a valid number for your weight.\\n\")\n",
    "\n",
    "    else:\n",
    "        print(\"Invalid entry. Please enter 'K' for kilograms or 'L' for pounds.\\n\")"
   ]
  },
  {
   "cell_type": "markdown",
   "id": "de860421-9a4f-404b-98b2-c21067b0d260",
   "metadata": {},
   "source": [
    "## Simple  Linear Regression"
   ]
  },
  {
   "cell_type": "markdown",
   "id": "333d3e1e-8c0a-4eb5-a168-d454f5b8e0a2",
   "metadata": {},
   "source": [
    "### Importing Libraries "
   ]
  },
  {
   "cell_type": "code",
   "execution_count": null,
   "id": "052a10f3-4b8c-4aad-83ad-79d9099b4acf",
   "metadata": {},
   "outputs": [],
   "source": [
    "import numpy as np\n",
    "import pandas as pd\n",
    "\n",
    "import matplotlib.pyplot as plt\n",
    "from IPython.display import display, clear_output\n",
    "\n",
    "import time"
   ]
  },
  {
   "cell_type": "markdown",
   "id": "58833f34-0241-48a2-95de-567a26ef5245",
   "metadata": {},
   "source": [
    "### Reading the Data File"
   ]
  },
  {
   "cell_type": "code",
   "execution_count": null,
   "id": "9f3ed6a3-d941-4fca-b1aa-0a90c5eca602",
   "metadata": {},
   "outputs": [],
   "source": [
    "# df = pd.read_csv(\"02_area_price_000.csv\") # local\n",
    "df = pd.read_csv(\"https://raw.githubusercontent.com/willn9/price_is_right/main/02_area_price_000.csv\") # online"
   ]
  },
  {
   "cell_type": "markdown",
   "id": "b945d8f2-5924-4af1-9dfe-5af9879bcad8",
   "metadata": {},
   "source": [
    "### Displaying the Data"
   ]
  },
  {
   "cell_type": "code",
   "execution_count": null,
   "id": "8da7a014-6ee9-44d6-9400-e0dcfe235515",
   "metadata": {},
   "outputs": [],
   "source": [
    "df # Note that the price is in $000, i.e., a value of 350 means that the house price is $350,000"
   ]
  },
  {
   "cell_type": "markdown",
   "id": "218cdf15-5075-4a17-90a2-442fa0257bc0",
   "metadata": {},
   "source": [
    "### Extract x (area) and y (price)"
   ]
  },
  {
   "cell_type": "code",
   "execution_count": null,
   "id": "53248df6-e872-42af-9e8a-93e5e0b563a7",
   "metadata": {},
   "outputs": [],
   "source": [
    "# Extract x (area) and y (price)\n",
    "x = df[\"area\"].values\n",
    "y = df[\"price\"].values"
   ]
  },
  {
   "cell_type": "code",
   "execution_count": null,
   "id": "2124e405-9453-4b31-98b2-abd82d406c35",
   "metadata": {},
   "outputs": [],
   "source": [
    "type(x[0]), type(y[0])"
   ]
  },
  {
   "cell_type": "code",
   "execution_count": null,
   "id": "bea577e3-dbc1-4134-aed2-23e20e65ce55",
   "metadata": {},
   "outputs": [],
   "source": []
  },
  {
   "cell_type": "code",
   "execution_count": null,
   "id": "045821b2-d5e7-432d-a9ce-80e3e5128204",
   "metadata": {},
   "outputs": [],
   "source": [
    "# Construct X matrix with a bias term (column of ones)\n",
    "X = np.column_stack((np.ones(len(x)), x))\n",
    "X"
   ]
  },
  {
   "cell_type": "markdown",
   "id": "173e338c-2199-4f4b-9709-33fa7b50ecb6",
   "metadata": {},
   "source": [
    "### Using Linear Algebra and Matrices to Find the Best Fit Line"
   ]
  },
  {
   "cell_type": "code",
   "execution_count": null,
   "id": "d34b999e-ff76-4ada-a860-67df6b6287e8",
   "metadata": {},
   "outputs": [],
   "source": [
    "# Apply normal equation: β = (Xᵀ·X)⁻¹·Xᵀ·y\n",
    "XT_X = X.T.dot(X)\n",
    "XT_y = X.T.dot(y)\n",
    "beta = np.linalg.inv(XT_X).dot(XT_y)"
   ]
  },
  {
   "cell_type": "code",
   "execution_count": null,
   "id": "4538d1b8-011c-4398-a2c0-f0ede03691a9",
   "metadata": {},
   "outputs": [],
   "source": [
    "# Results\n",
    "B0, B1 = beta\n",
    "print(f\"B0 (Intercept): {B0:.2f}\")\n",
    "print(f\"B1 (Slope): {B1:.2f}\")"
   ]
  },
  {
   "cell_type": "markdown",
   "id": "670e793e-b845-47fd-941e-d584c795874c",
   "metadata": {},
   "source": [
    "### Plotting the Best Fit Line"
   ]
  },
  {
   "cell_type": "code",
   "execution_count": null,
   "id": "0255a48d-d5b7-4a6a-8519-2521d5a08fd3",
   "metadata": {},
   "outputs": [],
   "source": [
    "# Predict prices using the linear model\n",
    "y_pred = B0 + B1 * x\n",
    "\n",
    "# Plot actual vs. predicted\n",
    "plt.scatter(x, y, color='blue', label='Actual Data')\n",
    "plt.plot(x, y_pred, color='red', label='Linear Fit')\n",
    "plt.xlabel(\"Area (sq ft)\")\n",
    "plt.ylabel(\"Price\")\n",
    "plt.title(\"Linear Regression: House Area vs. Price\")\n",
    "plt.legend()\n",
    "plt.grid(True)\n",
    "plt.show()"
   ]
  },
  {
   "cell_type": "markdown",
   "id": "18313812-2698-43f0-b67e-d278942f30bb",
   "metadata": {},
   "source": [
    "## Price is Right Game Trial - Demo Mode!"
   ]
  },
  {
   "cell_type": "code",
   "execution_count": null,
   "id": "3e15f36f-8dce-4f8b-b9ec-31869d14caad",
   "metadata": {},
   "outputs": [],
   "source": [
    "def price_guess_trial():\n",
    "    print(\"🔍 Trial Mode: Practice guessing prices. No scoring. Type 'stop' to end.\")\n",
    "\n",
    "    while True:\n",
    "        area = np.random.randint(400, 2500)\n",
    "        predicted_price = 1000 * (B0 + B1 * area)\n",
    "        print(f\"\\n🏡 Area: {area} sq ft\")\n",
    "\n",
    "        guess_input = input(\"💰 Your guess (in 1000s, e.g. 550): \")\n",
    "\n",
    "        if guess_input.lower() in [\"stop\", \"quit\", \"exit\", \"^c\"]:\n",
    "            print(\"🚪 Exiting trial mode.\")\n",
    "            break\n",
    "\n",
    "        try:\n",
    "            guess = float(guess_input)\n",
    "            error = (guess * 1000) - predicted_price\n",
    "            print(f\"📊 Predicted: ${predicted_price:.2f} | Your Guess: ${guess*1000:.2f} | Error: ${error:.2f}\")\n",
    "        except:\n",
    "            print(\"❌ Invalid input. Try a number or type 'stop'.\")\n",
    "\n",
    "price_guess_trial()"
   ]
  },
  {
   "cell_type": "code",
   "execution_count": null,
   "id": "1eec52a8-2ade-45d4-8ddf-84726f961340",
   "metadata": {},
   "outputs": [],
   "source": []
  },
  {
   "cell_type": "markdown",
   "id": "9a3f2d18-12ef-4a26-acd3-7c86b76815b7",
   "metadata": {},
   "source": [
    "## Price is Right Game with Score!"
   ]
  },
  {
   "cell_type": "code",
   "execution_count": null,
   "id": "6d9d38ca-ba05-4423-931c-c7d3be1ebbf0",
   "metadata": {},
   "outputs": [],
   "source": [
    "# Tracking data\n",
    "areas = []\n",
    "predicted_prices = []\n",
    "guesses = []\n",
    "errors = []\n",
    "squared_errors = []\n",
    "\n",
    "# Game duration\n",
    "t_minutes = 3 # set minutes\n",
    "duration = 60  * t_minutes\n",
    "start_time = time.time()\n",
    "\n",
    "# Valid exit phrases\n",
    "stop_commands = [\"exit\", \"stop\", \"quit\", \"^c\"]\n",
    "\n",
    "print(f\"🎮 Price is Right Regression Challenge\\nYou have {t_minutes} minutes to guess house prices based on area. Let's go!\")\n",
    "\n",
    "while time.time() - start_time < duration:\n",
    "    # Generate house area in range [400, 2500]\n",
    "    area = np.random.randint(400, 2500)\n",
    "    predicted_price = B0 + B1 * area\n",
    "    print(f\"\\n🏠 House Area: {area} sq ft\")\n",
    "\n",
    "    guess_input = input(\"💰 Your guess for the house price in $1000, i.e, if your guess $350,000 - you should enter 350 (or type 'stop' to quit): \")\n",
    "\n",
    "    if guess_input.lower() in stop_commands:\n",
    "        print(\"🛑 Game stopped by user.\")\n",
    "        break\n",
    "\n",
    "    try:\n",
    "        guess = float(guess_input)\n",
    "        error = guess - predicted_price\n",
    "        se = error**2\n",
    "\n",
    "        areas.append(area)\n",
    "        predicted_prices.append(predicted_price)\n",
    "        guesses.append(guess)\n",
    "        errors.append(error)\n",
    "        squared_errors.append(se)\n",
    "\n",
    "        remaining_time = int(duration - (time.time() - start_time))\n",
    "        print(f\"📊 Predicted: ${1000*predicted_price:.2f} | Your Guess: ${1000*guess:.2f} | Error: ${1000*error:.2f} | ⏱️ Remaining Time: {remaining_time} seconds\")\n",
    "\n",
    "    except ValueError:\n",
    "        print(\"❌ Invalid input. Please enter a number or a valid stop command.\")\n",
    "\n",
    "print(\"\\n⏰ Time's up! Execute the Next Cells to Know your Score \\n and See how you did:\")\n"
   ]
  },
  {
   "cell_type": "markdown",
   "id": "8d049353-c0ba-4105-a9bc-37cb8d2e293d",
   "metadata": {},
   "source": [
    "### Results and Score"
   ]
  },
  {
   "cell_type": "code",
   "execution_count": null,
   "id": "b5f57c30-3ce9-424a-86a1-68dcee7a1b14",
   "metadata": {},
   "outputs": [],
   "source": [
    "# Summary table\n",
    "results = pd.DataFrame({\n",
    "    \"Round\": range(1, len(guesses) + 1),\n",
    "    \"Area (sq ft)\": areas,\n",
    "    \"Your Guess ($)\": guesses,\n",
    "    \"Model Prediction ($)\": predicted_prices,\n",
    "    \"Error ($)\": errors,\n",
    "    \"Squared Error\": squared_errors\n",
    "})\n",
    "\n",
    "# Metrics\n",
    "SSR = sum(squared_errors)\n",
    "MSE = SSR / len(squared_errors) if squared_errors else 0\n",
    "mean_prediction = np.mean(predicted_prices)\n",
    "SST = sum((pred - mean_prediction)**2 for pred in predicted_prices)\n",
    "R2 = 1 - SSR / SST if SST != 0 else 0\n",
    "\n",
    "score = round(1000 * R2 * np.log1p(len(guesses)), 2)\n",
    "\n",
    "\n",
    "# Summary row\n",
    "summary = pd.DataFrame({\n",
    "    \"🧾 Summary of\": [f\"{len(areas)} rounds\"],\n",
    "    \"Area (sq ft)\": [f\"Avg: {np.mean(areas):.2f}\"],\n",
    "    \"Your Guess ($)\": [f\"Avg: {np.mean(guesses):.2f}\"],\n",
    "    \"Model Prediction ($)\": [f\"Avg: {mean_prediction:.2f}\"],\n",
    "    \"Error ($)\": [f\"Total SSR: {SSR:.2f}\"],\n",
    "    \"Squared Error | Accuracy\": [f\"MSE: {MSE:.2f} | R²: {R2:.4f}\"],\n",
    "    \"Score\": [f\"🏆 Score: {score}\"]\n",
    "})\n",
    "\n",
    "display(results)\n",
    "summary"
   ]
  },
  {
   "cell_type": "markdown",
   "id": "97e85b01-960e-4933-b57f-ec61f6e174e2",
   "metadata": {},
   "source": [
    "### Plotting your Estimates Against Model Predictions"
   ]
  },
  {
   "cell_type": "code",
   "execution_count": null,
   "id": "9ba8da86-cc92-469c-939c-65801318be9b",
   "metadata": {},
   "outputs": [],
   "source": [
    "# Plot guesses vs. prediction\n",
    "plt.figure(figsize=(10,6))\n",
    "plt.plot(results[\"Round\"], results[\"Your Guess ($)\"], marker='o', label='Your Guesses', color='blue')\n",
    "plt.plot(results[\"Round\"], results[\"Model Prediction ($)\"], marker='x', linestyle='--', label='Model Prediction', color='red')\n",
    "plt.xlabel(\"Round\")\n",
    "plt.ylabel(\"Price in 1000($)\")\n",
    "plt.title(\"Price Guess vs. Predicted Price\")\n",
    "plt.legend()\n",
    "plt.grid(True)\n",
    "plt.show()"
   ]
  },
  {
   "cell_type": "code",
   "execution_count": null,
   "id": "d4eec063-9929-44f8-a050-5c7848428690",
   "metadata": {},
   "outputs": [],
   "source": []
  },
  {
   "cell_type": "markdown",
   "id": "1223058b-de9e-4880-a3d5-a10582cdf982",
   "metadata": {},
   "source": [
    "### Congratulations on Completing your First AI Lab !"
   ]
  },
  {
   "cell_type": "markdown",
   "id": "fc2c8b33-2f79-40d3-8af6-3a1c822a398d",
   "metadata": {},
   "source": [
    "# Well Done!"
   ]
  },
  {
   "cell_type": "code",
   "execution_count": null,
   "id": "80dcae8c-fa6a-426f-9f55-fea13cb299b7",
   "metadata": {},
   "outputs": [],
   "source": []
  },
  {
   "cell_type": "code",
   "execution_count": null,
   "id": "1dbc23ca-bb83-44be-87dd-0e98e0671825",
   "metadata": {},
   "outputs": [],
   "source": []
  },
  {
   "cell_type": "code",
   "execution_count": null,
   "id": "0f5c1070-8f92-43e0-adc9-1c3aa7a7e3ef",
   "metadata": {},
   "outputs": [],
   "source": []
  },
  {
   "cell_type": "code",
   "execution_count": null,
   "id": "8760802d-c303-4e5f-bdb1-aa7417e41e07",
   "metadata": {},
   "outputs": [],
   "source": []
  },
  {
   "cell_type": "code",
   "execution_count": null,
   "id": "2a4b4d7d-708a-4bbf-9be4-db6c5889b160",
   "metadata": {},
   "outputs": [],
   "source": []
  }
 ],
 "metadata": {
  "kernelspec": {
   "display_name": "Python 3 (ipykernel)",
   "language": "python",
   "name": "python3"
  },
  "language_info": {
   "codemirror_mode": {
    "name": "ipython",
    "version": 3
   },
   "file_extension": ".py",
   "mimetype": "text/x-python",
   "name": "python",
   "nbconvert_exporter": "python",
   "pygments_lexer": "ipython3",
   "version": "3.10.16"
  }
 },
 "nbformat": 4,
 "nbformat_minor": 5
}
