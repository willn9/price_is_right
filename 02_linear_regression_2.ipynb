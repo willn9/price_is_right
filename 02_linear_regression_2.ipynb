{
 "cells": [
  {
   "cell_type": "markdown",
   "id": "de860421-9a4f-404b-98b2-c21067b0d260",
   "metadata": {},
   "source": [
    "## Simple  Linear Regression"
   ]
  },
  {
   "cell_type": "code",
   "execution_count": 1,
   "id": "052a10f3-4b8c-4aad-83ad-79d9099b4acf",
   "metadata": {},
   "outputs": [],
   "source": [
    "import numpy as np\n",
    "import pandas as pd\n",
    "\n",
    "import matplotlib.pyplot as plt\n",
    "from IPython.display import display, clear_output\n",
    "\n",
    "import time"
   ]
  },
  {
   "cell_type": "code",
   "execution_count": 2,
   "id": "9f3ed6a3-d941-4fca-b1aa-0a90c5eca602",
   "metadata": {},
   "outputs": [],
   "source": [
    "df = pd.read_csv(\"02_area_price_000.csv\")"
   ]
  },
  {
   "cell_type": "code",
   "execution_count": 3,
   "id": "8da7a014-6ee9-44d6-9400-e0dcfe235515",
   "metadata": {},
   "outputs": [
    {
     "data": {
      "text/html": [
       "<div>\n",
       "<style scoped>\n",
       "    .dataframe tbody tr th:only-of-type {\n",
       "        vertical-align: middle;\n",
       "    }\n",
       "\n",
       "    .dataframe tbody tr th {\n",
       "        vertical-align: top;\n",
       "    }\n",
       "\n",
       "    .dataframe thead th {\n",
       "        text-align: right;\n",
       "    }\n",
       "</style>\n",
       "<table border=\"1\" class=\"dataframe\">\n",
       "  <thead>\n",
       "    <tr style=\"text-align: right;\">\n",
       "      <th></th>\n",
       "      <th>area</th>\n",
       "      <th>price</th>\n",
       "    </tr>\n",
       "  </thead>\n",
       "  <tbody>\n",
       "    <tr>\n",
       "      <th>0</th>\n",
       "      <td>1166</td>\n",
       "      <td>589.232</td>\n",
       "    </tr>\n",
       "    <tr>\n",
       "      <th>1</th>\n",
       "      <td>1589</td>\n",
       "      <td>771.387</td>\n",
       "    </tr>\n",
       "    <tr>\n",
       "      <th>2</th>\n",
       "      <td>602</td>\n",
       "      <td>357.510</td>\n",
       "    </tr>\n",
       "    <tr>\n",
       "      <th>3</th>\n",
       "      <td>982</td>\n",
       "      <td>455.796</td>\n",
       "    </tr>\n",
       "    <tr>\n",
       "      <th>4</th>\n",
       "      <td>1697</td>\n",
       "      <td>810.714</td>\n",
       "    </tr>\n",
       "    <tr>\n",
       "      <th>5</th>\n",
       "      <td>681</td>\n",
       "      <td>328.530</td>\n",
       "    </tr>\n",
       "    <tr>\n",
       "      <th>6</th>\n",
       "      <td>1299</td>\n",
       "      <td>567.522</td>\n",
       "    </tr>\n",
       "    <tr>\n",
       "      <th>7</th>\n",
       "      <td>1228</td>\n",
       "      <td>563.276</td>\n",
       "    </tr>\n",
       "    <tr>\n",
       "      <th>8</th>\n",
       "      <td>845</td>\n",
       "      <td>493.683</td>\n",
       "    </tr>\n",
       "    <tr>\n",
       "      <th>9</th>\n",
       "      <td>712</td>\n",
       "      <td>342.061</td>\n",
       "    </tr>\n",
       "    <tr>\n",
       "      <th>10</th>\n",
       "      <td>1446</td>\n",
       "      <td>601.025</td>\n",
       "    </tr>\n",
       "    <tr>\n",
       "      <th>11</th>\n",
       "      <td>1567</td>\n",
       "      <td>703.049</td>\n",
       "    </tr>\n",
       "    <tr>\n",
       "      <th>12</th>\n",
       "      <td>992</td>\n",
       "      <td>463.020</td>\n",
       "    </tr>\n",
       "  </tbody>\n",
       "</table>\n",
       "</div>"
      ],
      "text/plain": [
       "    area    price\n",
       "0   1166  589.232\n",
       "1   1589  771.387\n",
       "2    602  357.510\n",
       "3    982  455.796\n",
       "4   1697  810.714\n",
       "5    681  328.530\n",
       "6   1299  567.522\n",
       "7   1228  563.276\n",
       "8    845  493.683\n",
       "9    712  342.061\n",
       "10  1446  601.025\n",
       "11  1567  703.049\n",
       "12   992  463.020"
      ]
     },
     "execution_count": 3,
     "metadata": {},
     "output_type": "execute_result"
    }
   ],
   "source": [
    "df # Note that the price is in $000, i.e., a value of 350 means that the house price is $350,000"
   ]
  },
  {
   "cell_type": "code",
   "execution_count": 4,
   "id": "53248df6-e872-42af-9e8a-93e5e0b563a7",
   "metadata": {},
   "outputs": [],
   "source": [
    "# Extract x (area) and y (price)\n",
    "x = df[\"area\"].values\n",
    "y = df[\"price\"].values"
   ]
  },
  {
   "cell_type": "code",
   "execution_count": 5,
   "id": "2124e405-9453-4b31-98b2-abd82d406c35",
   "metadata": {},
   "outputs": [
    {
     "data": {
      "text/plain": [
       "(numpy.int64, numpy.float64)"
      ]
     },
     "execution_count": 5,
     "metadata": {},
     "output_type": "execute_result"
    }
   ],
   "source": [
    "type(x[0]), type(y[0])"
   ]
  },
  {
   "cell_type": "code",
   "execution_count": null,
   "id": "bea577e3-dbc1-4134-aed2-23e20e65ce55",
   "metadata": {},
   "outputs": [],
   "source": []
  },
  {
   "cell_type": "code",
   "execution_count": 6,
   "id": "045821b2-d5e7-432d-a9ce-80e3e5128204",
   "metadata": {},
   "outputs": [
    {
     "data": {
      "text/plain": [
       "array([[1.000e+00, 1.166e+03],\n",
       "       [1.000e+00, 1.589e+03],\n",
       "       [1.000e+00, 6.020e+02],\n",
       "       [1.000e+00, 9.820e+02],\n",
       "       [1.000e+00, 1.697e+03],\n",
       "       [1.000e+00, 6.810e+02],\n",
       "       [1.000e+00, 1.299e+03],\n",
       "       [1.000e+00, 1.228e+03],\n",
       "       [1.000e+00, 8.450e+02],\n",
       "       [1.000e+00, 7.120e+02],\n",
       "       [1.000e+00, 1.446e+03],\n",
       "       [1.000e+00, 1.567e+03],\n",
       "       [1.000e+00, 9.920e+02]])"
      ]
     },
     "execution_count": 6,
     "metadata": {},
     "output_type": "execute_result"
    }
   ],
   "source": [
    "# Construct X matrix with a bias term (column of ones)\n",
    "X = np.column_stack((np.ones(len(x)), x))\n",
    "X"
   ]
  },
  {
   "cell_type": "code",
   "execution_count": 7,
   "id": "d34b999e-ff76-4ada-a860-67df6b6287e8",
   "metadata": {},
   "outputs": [],
   "source": [
    "# Apply normal equation: β = (Xᵀ·X)⁻¹·Xᵀ·y\n",
    "XT_X = X.T.dot(X)\n",
    "XT_y = X.T.dot(y)\n",
    "beta = np.linalg.inv(XT_X).dot(XT_y)"
   ]
  },
  {
   "cell_type": "code",
   "execution_count": 8,
   "id": "4538d1b8-011c-4398-a2c0-f0ede03691a9",
   "metadata": {},
   "outputs": [
    {
     "name": "stdout",
     "output_type": "stream",
     "text": [
      "B0 (Intercept): 77.07\n",
      "B1 (Slope): 0.41\n"
     ]
    }
   ],
   "source": [
    "# Results\n",
    "B0, B1 = beta\n",
    "print(f\"B0 (Intercept): {B0:.2f}\")\n",
    "print(f\"B1 (Slope): {B1:.2f}\")"
   ]
  },
  {
   "cell_type": "code",
   "execution_count": 9,
   "id": "0255a48d-d5b7-4a6a-8519-2521d5a08fd3",
   "metadata": {},
   "outputs": [
    {
     "data": {
      "image/png": "[encoded data removed]",
      "text/plain": [
       "<Figure size 640x480 with 1 Axes>"
      ]
     },
     "metadata": {},
     "output_type": "display_data"
    }
   ],
   "source": [
    "# Predict prices using the linear model\n",
    "y_pred = B0 + B1 * x\n",
    "\n",
    "# Plot actual vs. predicted\n",
    "plt.scatter(x, y, color='blue', label='Actual Data')\n",
    "plt.plot(x, y_pred, color='red', label='Linear Fit')\n",
    "plt.xlabel(\"Area (sq ft)\")\n",
    "plt.ylabel(\"Price\")\n",
    "plt.title(\"Linear Regression: House Area vs. Price\")\n",
    "plt.legend()\n",
    "plt.grid(True)\n",
    "plt.show()"
   ]
  },
  {
   "cell_type": "markdown",
   "id": "18313812-2698-43f0-b67e-d278942f30bb",
   "metadata": {},
   "source": [
    "## Price is Right Game!"
   ]
  },
  {
   "cell_type": "code",
   "execution_count": 10,
   "id": "6d9d38ca-ba05-4423-931c-c7d3be1ebbf0",
   "metadata": {},
   "outputs": [
    {
     "name": "stdout",
     "output_type": "stream",
     "text": [
      "🎮 Price is Right Regression Challenge\n",
      "You have 3 minutes to guess house prices based on area. Let's go!\n",
      "\n",
      "🏠 House Area: 1378 sq ft\n"
     ]
    },
    {
     "name": "stdin",
     "output_type": "stream",
     "text": [
      "💰 Your guess for the house price in $1000, i.e, if your guess $350,000 - you should enter 350 (or type 'stop' to quit):  600\n"
     ]
    },
    {
     "name": "stdout",
     "output_type": "stream",
     "text": [
      "📊 Predicted: $639669.71 | Your Guess: $600000.00 | Error: $-39669.71 | ⏱️ Remaining Time: 172 seconds\n",
      "\n",
      "🏠 House Area: 1828 sq ft\n"
     ]
    },
    {
     "name": "stdin",
     "output_type": "stream",
     "text": [
      "💰 Your guess for the house price in $1000, i.e, if your guess $350,000 - you should enter 350 (or type 'stop' to quit):  800\n"
     ]
    },
    {
     "name": "stdout",
     "output_type": "stream",
     "text": [
      "📊 Predicted: $823390.94 | Your Guess: $800000.00 | Error: $-23390.94 | ⏱️ Remaining Time: 161 seconds\n",
      "\n",
      "🏠 House Area: 912 sq ft\n"
     ]
    },
    {
     "name": "stdin",
     "output_type": "stream",
     "text": [
      "💰 Your guess for the house price in $1000, i.e, if your guess $350,000 - you should enter 350 (or type 'stop' to quit):  430\n"
     ]
    },
    {
     "name": "stdout",
     "output_type": "stream",
     "text": [
      "📊 Predicted: $449416.18 | Your Guess: $430000.00 | Error: $-19416.18 | ⏱️ Remaining Time: 150 seconds\n",
      "\n",
      "🏠 House Area: 1331 sq ft\n"
     ]
    },
    {
     "name": "stdin",
     "output_type": "stream",
     "text": [
      "💰 Your guess for the house price in $1000, i.e, if your guess $350,000 - you should enter 350 (or type 'stop' to quit):  600\n"
     ]
    },
    {
     "name": "stdout",
     "output_type": "stream",
     "text": [
      "📊 Predicted: $620481.05 | Your Guess: $600000.00 | Error: $-20481.05 | ⏱️ Remaining Time: 143 seconds\n",
      "\n",
      "🏠 House Area: 1598 sq ft\n"
     ]
    },
    {
     "name": "stdin",
     "output_type": "stream",
     "text": [
      "💰 Your guess for the house price in $1000, i.e, if your guess $350,000 - you should enter 350 (or type 'stop' to quit):  710\n"
     ]
    },
    {
     "name": "stdout",
     "output_type": "stream",
     "text": [
      "📊 Predicted: $729488.98 | Your Guess: $710000.00 | Error: $-19488.98 | ⏱️ Remaining Time: 130 seconds\n",
      "\n",
      "🏠 House Area: 2322 sq ft\n"
     ]
    },
    {
     "name": "stdin",
     "output_type": "stream",
     "text": [
      "💰 Your guess for the house price in $1000, i.e, if your guess $350,000 - you should enter 350 (or type 'stop' to quit):  1010\n"
     ]
    },
    {
     "name": "stdout",
     "output_type": "stream",
     "text": [
      "📊 Predicted: $1025076.02 | Your Guess: $1010000.00 | Error: $-15076.02 | ⏱️ Remaining Time: 101 seconds\n",
      "\n",
      "🏠 House Area: 1105 sq ft\n"
     ]
    },
    {
     "name": "stdin",
     "output_type": "stream",
     "text": [
      "💰 Your guess for the house price in $1000, i.e, if your guess $350,000 - you should enter 350 (or type 'stop' to quit):  515\n"
     ]
    },
    {
     "name": "stdout",
     "output_type": "stream",
     "text": [
      "📊 Predicted: $528212.17 | Your Guess: $515000.00 | Error: $-13212.17 | ⏱️ Remaining Time: 92 seconds\n",
      "\n",
      "🏠 House Area: 1610 sq ft\n"
     ]
    },
    {
     "name": "stdin",
     "output_type": "stream",
     "text": [
      "💰 Your guess for the house price in $1000, i.e, if your guess $350,000 - you should enter 350 (or type 'stop' to quit):  720\n"
     ]
    },
    {
     "name": "stdout",
     "output_type": "stream",
     "text": [
      "📊 Predicted: $734388.21 | Your Guess: $720000.00 | Error: $-14388.21 | ⏱️ Remaining Time: 73 seconds\n",
      "\n",
      "🏠 House Area: 1284 sq ft\n"
     ]
    },
    {
     "name": "stdin",
     "output_type": "stream",
     "text": [
      "💰 Your guess for the house price in $1000, i.e, if your guess $350,000 - you should enter 350 (or type 'stop' to quit):  560\n"
     ]
    },
    {
     "name": "stdout",
     "output_type": "stream",
     "text": [
      "📊 Predicted: $601292.39 | Your Guess: $560000.00 | Error: $-41292.39 | ⏱️ Remaining Time: 63 seconds\n",
      "\n",
      "🏠 House Area: 2090 sq ft\n"
     ]
    },
    {
     "name": "stdin",
     "output_type": "stream",
     "text": [
      "💰 Your guess for the house price in $1000, i.e, if your guess $350,000 - you should enter 350 (or type 'stop' to quit):  910\n"
     ]
    },
    {
     "name": "stdout",
     "output_type": "stream",
     "text": [
      "📊 Predicted: $930357.52 | Your Guess: $910000.00 | Error: $-20357.52 | ⏱️ Remaining Time: 49 seconds\n",
      "\n",
      "🏠 House Area: 2030 sq ft\n"
     ]
    },
    {
     "name": "stdin",
     "output_type": "stream",
     "text": [
      "💰 Your guess for the house price in $1000, i.e, if your guess $350,000 - you should enter 350 (or type 'stop' to quit):  890\n"
     ]
    },
    {
     "name": "stdout",
     "output_type": "stream",
     "text": [
      "📊 Predicted: $905861.36 | Your Guess: $890000.00 | Error: $-15861.36 | ⏱️ Remaining Time: 35 seconds\n",
      "\n",
      "🏠 House Area: 1637 sq ft\n"
     ]
    },
    {
     "name": "stdin",
     "output_type": "stream",
     "text": [
      "💰 Your guess for the house price in $1000, i.e, if your guess $350,000 - you should enter 350 (or type 'stop' to quit):  740\n"
     ]
    },
    {
     "name": "stdout",
     "output_type": "stream",
     "text": [
      "📊 Predicted: $745411.49 | Your Guess: $740000.00 | Error: $-5411.49 | ⏱️ Remaining Time: 20 seconds\n",
      "\n",
      "🏠 House Area: 1262 sq ft\n"
     ]
    },
    {
     "name": "stdin",
     "output_type": "stream",
     "text": [
      "💰 Your guess for the house price in $1000, i.e, if your guess $350,000 - you should enter 350 (or type 'stop' to quit):  570\n"
     ]
    },
    {
     "name": "stdout",
     "output_type": "stream",
     "text": [
      "📊 Predicted: $592310.46 | Your Guess: $570000.00 | Error: $-22310.46 | ⏱️ Remaining Time: 13 seconds\n",
      "\n",
      "🏠 House Area: 1932 sq ft\n"
     ]
    },
    {
     "name": "stdin",
     "output_type": "stream",
     "text": [
      "💰 Your guess for the house price in $1000, i.e, if your guess $350,000 - you should enter 350 (or type 'stop' to quit):  880\n"
     ]
    },
    {
     "name": "stdout",
     "output_type": "stream",
     "text": [
      "📊 Predicted: $865850.96 | Your Guess: $880000.00 | Error: $14149.04 | ⏱️ Remaining Time: -1 seconds\n",
      "\n",
      "⏰ Time's up! Execute the Next Cells to Know your Score \n",
      " and See how you did:\n"
     ]
    }
   ],
   "source": [
    "# Tracking data\n",
    "areas = []\n",
    "predicted_prices = []\n",
    "guesses = []\n",
    "errors = []\n",
    "squared_errors = []\n",
    "\n",
    "# Game duration\n",
    "t_minutes = 3 # set minutes\n",
    "duration = 60  * t_minutes\n",
    "start_time = time.time()\n",
    "\n",
    "# Valid exit phrases\n",
    "stop_commands = [\"exit\", \"stop\", \"quit\", \"^c\"]\n",
    "\n",
    "print(f\"🎮 Price is Right Regression Challenge\\nYou have {t_minutes} minutes to guess house prices based on area. Let's go!\")\n",
    "\n",
    "while time.time() - start_time < duration:\n",
    "    # Generate house area in range [400, 2500]\n",
    "    area = np.random.randint(400, 2500)\n",
    "    predicted_price = B0 + B1 * area\n",
    "    print(f\"\\n🏠 House Area: {area} sq ft\")\n",
    "\n",
    "    guess_input = input(\"💰 Your guess for the house price in $1000, i.e, if your guess $350,000 - you should enter 350 (or type 'stop' to quit): \")\n",
    "\n",
    "    if guess_input.lower() in stop_commands:\n",
    "        print(\"🛑 Game stopped by user.\")\n",
    "        break\n",
    "\n",
    "    try:\n",
    "        guess = float(guess_input)\n",
    "        error = guess - predicted_price\n",
    "        se = error**2\n",
    "\n",
    "        areas.append(area)\n",
    "        predicted_prices.append(predicted_price)\n",
    "        guesses.append(guess)\n",
    "        errors.append(error)\n",
    "        squared_errors.append(se)\n",
    "\n",
    "        remaining_time = int(duration - (time.time() - start_time))\n",
    "        print(f\"📊 Predicted: ${1000*predicted_price:.2f} | Your Guess: ${1000*guess:.2f} | Error: ${1000*error:.2f} | ⏱️ Remaining Time: {remaining_time} seconds\")\n",
    "\n",
    "    except ValueError:\n",
    "        print(\"❌ Invalid input. Please enter a number or a valid stop command.\")\n",
    "\n",
    "print(\"\\n⏰ Time's up! Execute the Next Cells to Know your Score \\n and See how you did:\")\n"
   ]
  },
  {
   "cell_type": "code",
   "execution_count": 11,
   "id": "b5f57c30-3ce9-424a-86a1-68dcee7a1b14",
   "metadata": {},
   "outputs": [
    {
     "data": {
      "text/html": [
       "<div>\n",
       "<style scoped>\n",
       "    .dataframe tbody tr th:only-of-type {\n",
       "        vertical-align: middle;\n",
       "    }\n",
       "\n",
       "    .dataframe tbody tr th {\n",
       "        vertical-align: top;\n",
       "    }\n",
       "\n",
       "    .dataframe thead th {\n",
       "        text-align: right;\n",
       "    }\n",
       "</style>\n",
       "<table border=\"1\" class=\"dataframe\">\n",
       "  <thead>\n",
       "    <tr style=\"text-align: right;\">\n",
       "      <th></th>\n",
       "      <th>Round</th>\n",
       "      <th>Area (sq ft)</th>\n",
       "      <th>Your Guess ($)</th>\n",
       "      <th>Model Prediction ($)</th>\n",
       "      <th>Error ($)</th>\n",
       "      <th>Squared Error</th>\n",
       "    </tr>\n",
       "  </thead>\n",
       "  <tbody>\n",
       "    <tr>\n",
       "      <th>0</th>\n",
       "      <td>1</td>\n",
       "      <td>1378</td>\n",
       "      <td>600.0</td>\n",
       "      <td>639.669713</td>\n",
       "      <td>-39.669713</td>\n",
       "      <td>1573.686159</td>\n",
       "    </tr>\n",
       "    <tr>\n",
       "      <th>1</th>\n",
       "      <td>2</td>\n",
       "      <td>1828</td>\n",
       "      <td>800.0</td>\n",
       "      <td>823.390940</td>\n",
       "      <td>-23.390940</td>\n",
       "      <td>547.136087</td>\n",
       "    </tr>\n",
       "    <tr>\n",
       "      <th>2</th>\n",
       "      <td>3</td>\n",
       "      <td>912</td>\n",
       "      <td>430.0</td>\n",
       "      <td>449.416176</td>\n",
       "      <td>-19.416176</td>\n",
       "      <td>376.987897</td>\n",
       "    </tr>\n",
       "    <tr>\n",
       "      <th>3</th>\n",
       "      <td>4</td>\n",
       "      <td>1331</td>\n",
       "      <td>600.0</td>\n",
       "      <td>620.481052</td>\n",
       "      <td>-20.481052</td>\n",
       "      <td>419.473487</td>\n",
       "    </tr>\n",
       "    <tr>\n",
       "      <th>4</th>\n",
       "      <td>5</td>\n",
       "      <td>1598</td>\n",
       "      <td>710.0</td>\n",
       "      <td>729.488980</td>\n",
       "      <td>-19.488980</td>\n",
       "      <td>379.820336</td>\n",
       "    </tr>\n",
       "    <tr>\n",
       "      <th>5</th>\n",
       "      <td>6</td>\n",
       "      <td>2322</td>\n",
       "      <td>1010.0</td>\n",
       "      <td>1025.076020</td>\n",
       "      <td>-15.076020</td>\n",
       "      <td>227.286394</td>\n",
       "    </tr>\n",
       "    <tr>\n",
       "      <th>6</th>\n",
       "      <td>7</td>\n",
       "      <td>1105</td>\n",
       "      <td>515.0</td>\n",
       "      <td>528.212169</td>\n",
       "      <td>-13.212169</td>\n",
       "      <td>174.561411</td>\n",
       "    </tr>\n",
       "    <tr>\n",
       "      <th>7</th>\n",
       "      <td>8</td>\n",
       "      <td>1610</td>\n",
       "      <td>720.0</td>\n",
       "      <td>734.388213</td>\n",
       "      <td>-14.388213</td>\n",
       "      <td>207.020661</td>\n",
       "    </tr>\n",
       "    <tr>\n",
       "      <th>8</th>\n",
       "      <td>9</td>\n",
       "      <td>1284</td>\n",
       "      <td>560.0</td>\n",
       "      <td>601.292390</td>\n",
       "      <td>-41.292390</td>\n",
       "      <td>1705.061506</td>\n",
       "    </tr>\n",
       "    <tr>\n",
       "      <th>9</th>\n",
       "      <td>10</td>\n",
       "      <td>2090</td>\n",
       "      <td>910.0</td>\n",
       "      <td>930.357521</td>\n",
       "      <td>-20.357521</td>\n",
       "      <td>414.428673</td>\n",
       "    </tr>\n",
       "    <tr>\n",
       "      <th>10</th>\n",
       "      <td>11</td>\n",
       "      <td>2030</td>\n",
       "      <td>890.0</td>\n",
       "      <td>905.861358</td>\n",
       "      <td>-15.861358</td>\n",
       "      <td>251.582668</td>\n",
       "    </tr>\n",
       "    <tr>\n",
       "      <th>11</th>\n",
       "      <td>12</td>\n",
       "      <td>1637</td>\n",
       "      <td>740.0</td>\n",
       "      <td>745.411486</td>\n",
       "      <td>-5.411486</td>\n",
       "      <td>29.284183</td>\n",
       "    </tr>\n",
       "    <tr>\n",
       "      <th>12</th>\n",
       "      <td>13</td>\n",
       "      <td>1262</td>\n",
       "      <td>570.0</td>\n",
       "      <td>592.310464</td>\n",
       "      <td>-22.310464</td>\n",
       "      <td>497.756794</td>\n",
       "    </tr>\n",
       "    <tr>\n",
       "      <th>13</th>\n",
       "      <td>14</td>\n",
       "      <td>1932</td>\n",
       "      <td>880.0</td>\n",
       "      <td>865.850957</td>\n",
       "      <td>14.149043</td>\n",
       "      <td>200.195413</td>\n",
       "    </tr>\n",
       "  </tbody>\n",
       "</table>\n",
       "</div>"
      ],
      "text/plain": [
       "    Round  Area (sq ft)  Your Guess ($)  Model Prediction ($)  Error ($)  \\\n",
       "0       1          1378           600.0            639.669713 -39.669713   \n",
       "1       2          1828           800.0            823.390940 -23.390940   \n",
       "2       3           912           430.0            449.416176 -19.416176   \n",
       "3       4          1331           600.0            620.481052 -20.481052   \n",
       "4       5          1598           710.0            729.488980 -19.488980   \n",
       "5       6          2322          1010.0           1025.076020 -15.076020   \n",
       "6       7          1105           515.0            528.212169 -13.212169   \n",
       "7       8          1610           720.0            734.388213 -14.388213   \n",
       "8       9          1284           560.0            601.292390 -41.292390   \n",
       "9      10          2090           910.0            930.357521 -20.357521   \n",
       "10     11          2030           890.0            905.861358 -15.861358   \n",
       "11     12          1637           740.0            745.411486  -5.411486   \n",
       "12     13          1262           570.0            592.310464 -22.310464   \n",
       "13     14          1932           880.0            865.850957  14.149043   \n",
       "\n",
       "    Squared Error  \n",
       "0     1573.686159  \n",
       "1      547.136087  \n",
       "2      376.987897  \n",
       "3      419.473487  \n",
       "4      379.820336  \n",
       "5      227.286394  \n",
       "6      174.561411  \n",
       "7      207.020661  \n",
       "8     1705.061506  \n",
       "9      414.428673  \n",
       "10     251.582668  \n",
       "11      29.284183  \n",
       "12     497.756794  \n",
       "13     200.195413  "
      ]
     },
     "metadata": {},
     "output_type": "display_data"
    },
    {
     "data": {
      "text/html": [
       "<div>\n",
       "<style scoped>\n",
       "    .dataframe tbody tr th:only-of-type {\n",
       "        vertical-align: middle;\n",
       "    }\n",
       "\n",
       "    .dataframe tbody tr th {\n",
       "        vertical-align: top;\n",
       "    }\n",
       "\n",
       "    .dataframe thead th {\n",
       "        text-align: right;\n",
       "    }\n",
       "</style>\n",
       "<table border=\"1\" class=\"dataframe\">\n",
       "  <thead>\n",
       "    <tr style=\"text-align: right;\">\n",
       "      <th></th>\n",
       "      <th>🧾 Summary of</th>\n",
       "      <th>Area (sq ft)</th>\n",
       "      <th>Your Guess ($)</th>\n",
       "      <th>Model Prediction ($)</th>\n",
       "      <th>Error ($)</th>\n",
       "      <th>Squared Error | Accuracy</th>\n",
       "      <th>Score</th>\n",
       "    </tr>\n",
       "  </thead>\n",
       "  <tbody>\n",
       "    <tr>\n",
       "      <th>0</th>\n",
       "      <td>14 rounds</td>\n",
       "      <td>Avg: 1594.21</td>\n",
       "      <td>Avg: 709.64</td>\n",
       "      <td>Avg: 727.94</td>\n",
       "      <td>Total SSR: 7004.28</td>\n",
       "      <td>MSE: 500.31 | R²: 0.9806</td>\n",
       "      <td>🏆 Score: 2655.45</td>\n",
       "    </tr>\n",
       "  </tbody>\n",
       "</table>\n",
       "</div>"
      ],
      "text/plain": [
       "  🧾 Summary of  Area (sq ft) Your Guess ($) Model Prediction ($)  \\\n",
       "0    14 rounds  Avg: 1594.21    Avg: 709.64          Avg: 727.94   \n",
       "\n",
       "            Error ($)  Squared Error | Accuracy             Score  \n",
       "0  Total SSR: 7004.28  MSE: 500.31 | R²: 0.9806  🏆 Score: 2655.45  "
      ]
     },
     "execution_count": 11,
     "metadata": {},
     "output_type": "execute_result"
    }
   ],
   "source": [
    "# Summary table\n",
    "results = pd.DataFrame({\n",
    "    \"Round\": range(1, len(guesses) + 1),\n",
    "    \"Area (sq ft)\": areas,\n",
    "    \"Your Guess ($)\": guesses,\n",
    "    \"Model Prediction ($)\": predicted_prices,\n",
    "    \"Error ($)\": errors,\n",
    "    \"Squared Error\": squared_errors\n",
    "})\n",
    "\n",
    "# Metrics\n",
    "SSR = sum(squared_errors)\n",
    "MSE = SSR / len(squared_errors) if squared_errors else 0\n",
    "mean_prediction = np.mean(predicted_prices)\n",
    "SST = sum((pred - mean_prediction)**2 for pred in predicted_prices)\n",
    "R2 = 1 - SSR / SST if SST != 0 else 0\n",
    "\n",
    "score = round(1000 * R2 * np.log1p(len(guesses)), 2)\n",
    "\n",
    "\n",
    "# Summary row\n",
    "summary = pd.DataFrame({\n",
    "    \"🧾 Summary of\": [f\"{len(areas)} rounds\"],\n",
    "    \"Area (sq ft)\": [f\"Avg: {np.mean(areas):.2f}\"],\n",
    "    \"Your Guess ($)\": [f\"Avg: {np.mean(guesses):.2f}\"],\n",
    "    \"Model Prediction ($)\": [f\"Avg: {mean_prediction:.2f}\"],\n",
    "    \"Error ($)\": [f\"Total SSR: {SSR:.2f}\"],\n",
    "    \"Squared Error | Accuracy\": [f\"MSE: {MSE:.2f} | R²: {R2:.4f}\"],\n",
    "    \"Score\": [f\"🏆 Score: {score}\"]\n",
    "})\n",
    "\n",
    "display(results)\n",
    "summary"
   ]
  },
  {
   "cell_type": "code",
   "execution_count": 12,
   "id": "9ba8da86-cc92-469c-939c-65801318be9b",
   "metadata": {},
   "outputs": [
    {
     "data": {
      "image/png": "[encoded data removed]",
      "text/plain": [
       "<Figure size 1000x600 with 1 Axes>"
      ]
     },
     "metadata": {},
     "output_type": "display_data"
    }
   ],
   "source": [
    "# Plot guesses vs. prediction\n",
    "plt.figure(figsize=(10,6))\n",
    "plt.plot(results[\"Round\"], results[\"Your Guess ($)\"], marker='o', label='Your Guesses', color='blue')\n",
    "plt.plot(results[\"Round\"], results[\"Model Prediction ($)\"], marker='x', linestyle='--', label='Model Prediction', color='red')\n",
    "plt.xlabel(\"Round\")\n",
    "plt.ylabel(\"Price in 1000($)\")\n",
    "plt.title(\"Price Guess vs. Predicted Price\")\n",
    "plt.legend()\n",
    "plt.grid(True)\n",
    "plt.show()"
   ]
  },
  {
   "cell_type": "code",
   "execution_count": null,
   "id": "d4eec063-9929-44f8-a050-5c7848428690",
   "metadata": {},
   "outputs": [],
   "source": []
  },
  {
   "cell_type": "code",
   "execution_count": null,
   "id": "80dcae8c-fa6a-426f-9f55-fea13cb299b7",
   "metadata": {},
   "outputs": [],
   "source": []
  },
  {
   "cell_type": "code",
   "execution_count": null,
   "id": "1dbc23ca-bb83-44be-87dd-0e98e0671825",
   "metadata": {},
   "outputs": [],
   "source": []
  },
  {
   "cell_type": "code",
   "execution_count": null,
   "id": "0f5c1070-8f92-43e0-adc9-1c3aa7a7e3ef",
   "metadata": {},
   "outputs": [],
   "source": []
  },
  {
   "cell_type": "code",
   "execution_count": null,
   "id": "8760802d-c303-4e5f-bdb1-aa7417e41e07",
   "metadata": {},
   "outputs": [],
   "source": []
  },
  {
   "cell_type": "code",
   "execution_count": null,
   "id": "2a4b4d7d-708a-4bbf-9be4-db6c5889b160",
   "metadata": {},
   "outputs": [],
   "source": []
  }
 ],
 "metadata": {
  "kernelspec": {
   "display_name": "Python 3 (ipykernel)",
   "language": "python",
   "name": "python3"
  },
  "language_info": {
   "codemirror_mode": {
    "name": "ipython",
    "version": 3
   },
   "file_extension": ".py",
   "mimetype": "text/x-python",
   "name": "python",
   "nbconvert_exporter": "python",
   "pygments_lexer": "ipython3",
   "version": "3.10.16"
  }
 },
 "nbformat": 4,
 "nbformat_minor": 5
}
